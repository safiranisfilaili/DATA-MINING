{
  "nbformat": 4,
  "nbformat_minor": 0,
  "metadata": {
    "colab": {
      "provenance": []
    },
    "kernelspec": {
      "name": "python3",
      "display_name": "Python 3"
    },
    "language_info": {
      "name": "python"
    }
  },
  "cells": [
    {
      "cell_type": "markdown",
      "source": [
        "NAMA : SAFIRA NISFILLAILI\n",
        "\n",
        "NIM : 4101422114"
      ],
      "metadata": {
        "id": "GEkQ6dcggNCR"
      }
    },
    {
      "cell_type": "code",
      "execution_count": 43,
      "metadata": {
        "id": "tUEMq8IgTB3q"
      },
      "outputs": [],
      "source": [
        "import pandas as pd\n",
        "import numpy as np\n",
        "import matplotlib.pyplot as plt"
      ]
    },
    {
      "cell_type": "markdown",
      "source": [
        "1. INFORMASI DATA"
      ],
      "metadata": {
        "id": "OgCufnZFTfjx"
      }
    },
    {
      "cell_type": "code",
      "source": [
        "#pemanggilan data\n",
        "data = pd.read_csv(\"produk_elektronik.csv\")"
      ],
      "metadata": {
        "id": "9tP-cFVnTa5Y"
      },
      "execution_count": 44,
      "outputs": []
    },
    {
      "cell_type": "code",
      "source": [
        "data.head()"
      ],
      "metadata": {
        "colab": {
          "base_uri": "https://localhost:8080/",
          "height": 206
        },
        "id": "e3gp0AM6TtcO",
        "outputId": "6c341c42-d24c-4a32-bc87-84a736efbb6c"
      },
      "execution_count": 45,
      "outputs": [
        {
          "output_type": "execute_result",
          "data": {
            "text/plain": [
              "   produk_id nama_produk    kategori  harga  rating  jumlah_ulasan  \\\n",
              "0          1    Produk_1  Smartwatch  746.0     4.2          273.0   \n",
              "1          2    Produk_2   Headphone  241.0     3.5          239.0   \n",
              "2          3    Produk_3      Tablet  810.0     3.8          209.0   \n",
              "3          4    Produk_4   Headphone  303.0     3.2           59.0   \n",
              "4          5    Produk_5   Headphone  252.0     3.7           76.0   \n",
              "\n",
              "   negara_asal  \n",
              "0        Japan  \n",
              "1       Canada  \n",
              "2       Canada  \n",
              "3  South Korea  \n",
              "4  South Korea  "
            ],
            "text/html": [
              "\n",
              "  <div id=\"df-cc2f1389-a525-4b3b-a4b9-f08b41dd28a3\" class=\"colab-df-container\">\n",
              "    <div>\n",
              "<style scoped>\n",
              "    .dataframe tbody tr th:only-of-type {\n",
              "        vertical-align: middle;\n",
              "    }\n",
              "\n",
              "    .dataframe tbody tr th {\n",
              "        vertical-align: top;\n",
              "    }\n",
              "\n",
              "    .dataframe thead th {\n",
              "        text-align: right;\n",
              "    }\n",
              "</style>\n",
              "<table border=\"1\" class=\"dataframe\">\n",
              "  <thead>\n",
              "    <tr style=\"text-align: right;\">\n",
              "      <th></th>\n",
              "      <th>produk_id</th>\n",
              "      <th>nama_produk</th>\n",
              "      <th>kategori</th>\n",
              "      <th>harga</th>\n",
              "      <th>rating</th>\n",
              "      <th>jumlah_ulasan</th>\n",
              "      <th>negara_asal</th>\n",
              "    </tr>\n",
              "  </thead>\n",
              "  <tbody>\n",
              "    <tr>\n",
              "      <th>0</th>\n",
              "      <td>1</td>\n",
              "      <td>Produk_1</td>\n",
              "      <td>Smartwatch</td>\n",
              "      <td>746.0</td>\n",
              "      <td>4.2</td>\n",
              "      <td>273.0</td>\n",
              "      <td>Japan</td>\n",
              "    </tr>\n",
              "    <tr>\n",
              "      <th>1</th>\n",
              "      <td>2</td>\n",
              "      <td>Produk_2</td>\n",
              "      <td>Headphone</td>\n",
              "      <td>241.0</td>\n",
              "      <td>3.5</td>\n",
              "      <td>239.0</td>\n",
              "      <td>Canada</td>\n",
              "    </tr>\n",
              "    <tr>\n",
              "      <th>2</th>\n",
              "      <td>3</td>\n",
              "      <td>Produk_3</td>\n",
              "      <td>Tablet</td>\n",
              "      <td>810.0</td>\n",
              "      <td>3.8</td>\n",
              "      <td>209.0</td>\n",
              "      <td>Canada</td>\n",
              "    </tr>\n",
              "    <tr>\n",
              "      <th>3</th>\n",
              "      <td>4</td>\n",
              "      <td>Produk_4</td>\n",
              "      <td>Headphone</td>\n",
              "      <td>303.0</td>\n",
              "      <td>3.2</td>\n",
              "      <td>59.0</td>\n",
              "      <td>South Korea</td>\n",
              "    </tr>\n",
              "    <tr>\n",
              "      <th>4</th>\n",
              "      <td>5</td>\n",
              "      <td>Produk_5</td>\n",
              "      <td>Headphone</td>\n",
              "      <td>252.0</td>\n",
              "      <td>3.7</td>\n",
              "      <td>76.0</td>\n",
              "      <td>South Korea</td>\n",
              "    </tr>\n",
              "  </tbody>\n",
              "</table>\n",
              "</div>\n",
              "    <div class=\"colab-df-buttons\">\n",
              "\n",
              "  <div class=\"colab-df-container\">\n",
              "    <button class=\"colab-df-convert\" onclick=\"convertToInteractive('df-cc2f1389-a525-4b3b-a4b9-f08b41dd28a3')\"\n",
              "            title=\"Convert this dataframe to an interactive table.\"\n",
              "            style=\"display:none;\">\n",
              "\n",
              "  <svg xmlns=\"http://www.w3.org/2000/svg\" height=\"24px\" viewBox=\"0 -960 960 960\">\n",
              "    <path d=\"M120-120v-720h720v720H120Zm60-500h600v-160H180v160Zm220 220h160v-160H400v160Zm0 220h160v-160H400v160ZM180-400h160v-160H180v160Zm440 0h160v-160H620v160ZM180-180h160v-160H180v160Zm440 0h160v-160H620v160Z\"/>\n",
              "  </svg>\n",
              "    </button>\n",
              "\n",
              "  <style>\n",
              "    .colab-df-container {\n",
              "      display:flex;\n",
              "      gap: 12px;\n",
              "    }\n",
              "\n",
              "    .colab-df-convert {\n",
              "      background-color: #E8F0FE;\n",
              "      border: none;\n",
              "      border-radius: 50%;\n",
              "      cursor: pointer;\n",
              "      display: none;\n",
              "      fill: #1967D2;\n",
              "      height: 32px;\n",
              "      padding: 0 0 0 0;\n",
              "      width: 32px;\n",
              "    }\n",
              "\n",
              "    .colab-df-convert:hover {\n",
              "      background-color: #E2EBFA;\n",
              "      box-shadow: 0px 1px 2px rgba(60, 64, 67, 0.3), 0px 1px 3px 1px rgba(60, 64, 67, 0.15);\n",
              "      fill: #174EA6;\n",
              "    }\n",
              "\n",
              "    .colab-df-buttons div {\n",
              "      margin-bottom: 4px;\n",
              "    }\n",
              "\n",
              "    [theme=dark] .colab-df-convert {\n",
              "      background-color: #3B4455;\n",
              "      fill: #D2E3FC;\n",
              "    }\n",
              "\n",
              "    [theme=dark] .colab-df-convert:hover {\n",
              "      background-color: #434B5C;\n",
              "      box-shadow: 0px 1px 3px 1px rgba(0, 0, 0, 0.15);\n",
              "      filter: drop-shadow(0px 1px 2px rgba(0, 0, 0, 0.3));\n",
              "      fill: #FFFFFF;\n",
              "    }\n",
              "  </style>\n",
              "\n",
              "    <script>\n",
              "      const buttonEl =\n",
              "        document.querySelector('#df-cc2f1389-a525-4b3b-a4b9-f08b41dd28a3 button.colab-df-convert');\n",
              "      buttonEl.style.display =\n",
              "        google.colab.kernel.accessAllowed ? 'block' : 'none';\n",
              "\n",
              "      async function convertToInteractive(key) {\n",
              "        const element = document.querySelector('#df-cc2f1389-a525-4b3b-a4b9-f08b41dd28a3');\n",
              "        const dataTable =\n",
              "          await google.colab.kernel.invokeFunction('convertToInteractive',\n",
              "                                                    [key], {});\n",
              "        if (!dataTable) return;\n",
              "\n",
              "        const docLinkHtml = 'Like what you see? Visit the ' +\n",
              "          '<a target=\"_blank\" href=https://colab.research.google.com/notebooks/data_table.ipynb>data table notebook</a>'\n",
              "          + ' to learn more about interactive tables.';\n",
              "        element.innerHTML = '';\n",
              "        dataTable['output_type'] = 'display_data';\n",
              "        await google.colab.output.renderOutput(dataTable, element);\n",
              "        const docLink = document.createElement('div');\n",
              "        docLink.innerHTML = docLinkHtml;\n",
              "        element.appendChild(docLink);\n",
              "      }\n",
              "    </script>\n",
              "  </div>\n",
              "\n",
              "\n",
              "<div id=\"df-bd8807f1-e0a6-4d48-bc8b-74d9cf0246f9\">\n",
              "  <button class=\"colab-df-quickchart\" onclick=\"quickchart('df-bd8807f1-e0a6-4d48-bc8b-74d9cf0246f9')\"\n",
              "            title=\"Suggest charts\"\n",
              "            style=\"display:none;\">\n",
              "\n",
              "<svg xmlns=\"http://www.w3.org/2000/svg\" height=\"24px\"viewBox=\"0 0 24 24\"\n",
              "     width=\"24px\">\n",
              "    <g>\n",
              "        <path d=\"M19 3H5c-1.1 0-2 .9-2 2v14c0 1.1.9 2 2 2h14c1.1 0 2-.9 2-2V5c0-1.1-.9-2-2-2zM9 17H7v-7h2v7zm4 0h-2V7h2v10zm4 0h-2v-4h2v4z\"/>\n",
              "    </g>\n",
              "</svg>\n",
              "  </button>\n",
              "\n",
              "<style>\n",
              "  .colab-df-quickchart {\n",
              "      --bg-color: #E8F0FE;\n",
              "      --fill-color: #1967D2;\n",
              "      --hover-bg-color: #E2EBFA;\n",
              "      --hover-fill-color: #174EA6;\n",
              "      --disabled-fill-color: #AAA;\n",
              "      --disabled-bg-color: #DDD;\n",
              "  }\n",
              "\n",
              "  [theme=dark] .colab-df-quickchart {\n",
              "      --bg-color: #3B4455;\n",
              "      --fill-color: #D2E3FC;\n",
              "      --hover-bg-color: #434B5C;\n",
              "      --hover-fill-color: #FFFFFF;\n",
              "      --disabled-bg-color: #3B4455;\n",
              "      --disabled-fill-color: #666;\n",
              "  }\n",
              "\n",
              "  .colab-df-quickchart {\n",
              "    background-color: var(--bg-color);\n",
              "    border: none;\n",
              "    border-radius: 50%;\n",
              "    cursor: pointer;\n",
              "    display: none;\n",
              "    fill: var(--fill-color);\n",
              "    height: 32px;\n",
              "    padding: 0;\n",
              "    width: 32px;\n",
              "  }\n",
              "\n",
              "  .colab-df-quickchart:hover {\n",
              "    background-color: var(--hover-bg-color);\n",
              "    box-shadow: 0 1px 2px rgba(60, 64, 67, 0.3), 0 1px 3px 1px rgba(60, 64, 67, 0.15);\n",
              "    fill: var(--button-hover-fill-color);\n",
              "  }\n",
              "\n",
              "  .colab-df-quickchart-complete:disabled,\n",
              "  .colab-df-quickchart-complete:disabled:hover {\n",
              "    background-color: var(--disabled-bg-color);\n",
              "    fill: var(--disabled-fill-color);\n",
              "    box-shadow: none;\n",
              "  }\n",
              "\n",
              "  .colab-df-spinner {\n",
              "    border: 2px solid var(--fill-color);\n",
              "    border-color: transparent;\n",
              "    border-bottom-color: var(--fill-color);\n",
              "    animation:\n",
              "      spin 1s steps(1) infinite;\n",
              "  }\n",
              "\n",
              "  @keyframes spin {\n",
              "    0% {\n",
              "      border-color: transparent;\n",
              "      border-bottom-color: var(--fill-color);\n",
              "      border-left-color: var(--fill-color);\n",
              "    }\n",
              "    20% {\n",
              "      border-color: transparent;\n",
              "      border-left-color: var(--fill-color);\n",
              "      border-top-color: var(--fill-color);\n",
              "    }\n",
              "    30% {\n",
              "      border-color: transparent;\n",
              "      border-left-color: var(--fill-color);\n",
              "      border-top-color: var(--fill-color);\n",
              "      border-right-color: var(--fill-color);\n",
              "    }\n",
              "    40% {\n",
              "      border-color: transparent;\n",
              "      border-right-color: var(--fill-color);\n",
              "      border-top-color: var(--fill-color);\n",
              "    }\n",
              "    60% {\n",
              "      border-color: transparent;\n",
              "      border-right-color: var(--fill-color);\n",
              "    }\n",
              "    80% {\n",
              "      border-color: transparent;\n",
              "      border-right-color: var(--fill-color);\n",
              "      border-bottom-color: var(--fill-color);\n",
              "    }\n",
              "    90% {\n",
              "      border-color: transparent;\n",
              "      border-bottom-color: var(--fill-color);\n",
              "    }\n",
              "  }\n",
              "</style>\n",
              "\n",
              "  <script>\n",
              "    async function quickchart(key) {\n",
              "      const quickchartButtonEl =\n",
              "        document.querySelector('#' + key + ' button');\n",
              "      quickchartButtonEl.disabled = true;  // To prevent multiple clicks.\n",
              "      quickchartButtonEl.classList.add('colab-df-spinner');\n",
              "      try {\n",
              "        const charts = await google.colab.kernel.invokeFunction(\n",
              "            'suggestCharts', [key], {});\n",
              "      } catch (error) {\n",
              "        console.error('Error during call to suggestCharts:', error);\n",
              "      }\n",
              "      quickchartButtonEl.classList.remove('colab-df-spinner');\n",
              "      quickchartButtonEl.classList.add('colab-df-quickchart-complete');\n",
              "    }\n",
              "    (() => {\n",
              "      let quickchartButtonEl =\n",
              "        document.querySelector('#df-bd8807f1-e0a6-4d48-bc8b-74d9cf0246f9 button');\n",
              "      quickchartButtonEl.style.display =\n",
              "        google.colab.kernel.accessAllowed ? 'block' : 'none';\n",
              "    })();\n",
              "  </script>\n",
              "</div>\n",
              "\n",
              "    </div>\n",
              "  </div>\n"
            ],
            "application/vnd.google.colaboratory.intrinsic+json": {
              "type": "dataframe",
              "variable_name": "data",
              "summary": "{\n  \"name\": \"data\",\n  \"rows\": 550,\n  \"fields\": [\n    {\n      \"column\": \"produk_id\",\n      \"properties\": {\n        \"dtype\": \"number\",\n        \"std\": 158,\n        \"min\": 1,\n        \"max\": 550,\n        \"num_unique_values\": 550,\n        \"samples\": [\n          196,\n          80,\n          481\n        ],\n        \"semantic_type\": \"\",\n        \"description\": \"\"\n      }\n    },\n    {\n      \"column\": \"nama_produk\",\n      \"properties\": {\n        \"dtype\": \"string\",\n        \"num_unique_values\": 550,\n        \"samples\": [\n          \"Produk_196\",\n          \"Produk_80\",\n          \"Produk_481\"\n        ],\n        \"semantic_type\": \"\",\n        \"description\": \"\"\n      }\n    },\n    {\n      \"column\": \"kategori\",\n      \"properties\": {\n        \"dtype\": \"category\",\n        \"num_unique_values\": 6,\n        \"samples\": [\n          \"Smartwatch\",\n          \"Headphone\",\n          \"Smartphone\"\n        ],\n        \"semantic_type\": \"\",\n        \"description\": \"\"\n      }\n    },\n    {\n      \"column\": \"harga\",\n      \"properties\": {\n        \"dtype\": \"number\",\n        \"std\": 625.8867249279893,\n        \"min\": -213.0,\n        \"max\": 8341.0,\n        \"num_unique_values\": 394,\n        \"samples\": [\n          388.0,\n          492.0,\n          418.0\n        ],\n        \"semantic_type\": \"\",\n        \"description\": \"\"\n      }\n    },\n    {\n      \"column\": \"rating\",\n      \"properties\": {\n        \"dtype\": \"number\",\n        \"std\": 0.5710523983693329,\n        \"min\": 3.0,\n        \"max\": 5.0,\n        \"num_unique_values\": 21,\n        \"samples\": [\n          4.2,\n          4.3,\n          5.0\n        ],\n        \"semantic_type\": \"\",\n        \"description\": \"\"\n      }\n    },\n    {\n      \"column\": \"jumlah_ulasan\",\n      \"properties\": {\n        \"dtype\": \"number\",\n        \"std\": 142.65537992151366,\n        \"min\": 12.0,\n        \"max\": 499.0,\n        \"num_unique_values\": 327,\n        \"samples\": [\n          212.0,\n          172.0,\n          375.0\n        ],\n        \"semantic_type\": \"\",\n        \"description\": \"\"\n      }\n    },\n    {\n      \"column\": \"negara_asal\",\n      \"properties\": {\n        \"dtype\": \"category\",\n        \"num_unique_values\": 9,\n        \"samples\": [\n          \"India\",\n          \"Canada\",\n          \"Germany\"\n        ],\n        \"semantic_type\": \"\",\n        \"description\": \"\"\n      }\n    }\n  ]\n}"
            }
          },
          "metadata": {},
          "execution_count": 45
        }
      ]
    },
    {
      "cell_type": "code",
      "source": [
        "data.tail(5)"
      ],
      "metadata": {
        "colab": {
          "base_uri": "https://localhost:8080/",
          "height": 206
        },
        "id": "vDGZ8zc3T1vN",
        "outputId": "cb9076e1-c2ef-40cd-b67b-6e01f76a165b"
      },
      "execution_count": 46,
      "outputs": [
        {
          "output_type": "execute_result",
          "data": {
            "text/plain": [
              "     produk_id nama_produk   kategori  harga  rating  jumlah_ulasan  \\\n",
              "545        546  Produk_546     Laptop  496.0     3.9           19.0   \n",
              "546        547  Produk_547  Headphone  628.0     4.7          414.0   \n",
              "547        548  Produk_548     Tablet  465.0     4.3          393.0   \n",
              "548        549  Produk_549     Laptop  495.0     3.1          311.0   \n",
              "549        550  Produk_550     Tablet  388.0     4.3          240.0   \n",
              "\n",
              "    negara_asal  \n",
              "545       China  \n",
              "546         USA  \n",
              "547       India  \n",
              "548     Germany  \n",
              "549     Germany  "
            ],
            "text/html": [
              "\n",
              "  <div id=\"df-2b72b8e8-071b-487a-8756-015049dc2a81\" class=\"colab-df-container\">\n",
              "    <div>\n",
              "<style scoped>\n",
              "    .dataframe tbody tr th:only-of-type {\n",
              "        vertical-align: middle;\n",
              "    }\n",
              "\n",
              "    .dataframe tbody tr th {\n",
              "        vertical-align: top;\n",
              "    }\n",
              "\n",
              "    .dataframe thead th {\n",
              "        text-align: right;\n",
              "    }\n",
              "</style>\n",
              "<table border=\"1\" class=\"dataframe\">\n",
              "  <thead>\n",
              "    <tr style=\"text-align: right;\">\n",
              "      <th></th>\n",
              "      <th>produk_id</th>\n",
              "      <th>nama_produk</th>\n",
              "      <th>kategori</th>\n",
              "      <th>harga</th>\n",
              "      <th>rating</th>\n",
              "      <th>jumlah_ulasan</th>\n",
              "      <th>negara_asal</th>\n",
              "    </tr>\n",
              "  </thead>\n",
              "  <tbody>\n",
              "    <tr>\n",
              "      <th>545</th>\n",
              "      <td>546</td>\n",
              "      <td>Produk_546</td>\n",
              "      <td>Laptop</td>\n",
              "      <td>496.0</td>\n",
              "      <td>3.9</td>\n",
              "      <td>19.0</td>\n",
              "      <td>China</td>\n",
              "    </tr>\n",
              "    <tr>\n",
              "      <th>546</th>\n",
              "      <td>547</td>\n",
              "      <td>Produk_547</td>\n",
              "      <td>Headphone</td>\n",
              "      <td>628.0</td>\n",
              "      <td>4.7</td>\n",
              "      <td>414.0</td>\n",
              "      <td>USA</td>\n",
              "    </tr>\n",
              "    <tr>\n",
              "      <th>547</th>\n",
              "      <td>548</td>\n",
              "      <td>Produk_548</td>\n",
              "      <td>Tablet</td>\n",
              "      <td>465.0</td>\n",
              "      <td>4.3</td>\n",
              "      <td>393.0</td>\n",
              "      <td>India</td>\n",
              "    </tr>\n",
              "    <tr>\n",
              "      <th>548</th>\n",
              "      <td>549</td>\n",
              "      <td>Produk_549</td>\n",
              "      <td>Laptop</td>\n",
              "      <td>495.0</td>\n",
              "      <td>3.1</td>\n",
              "      <td>311.0</td>\n",
              "      <td>Germany</td>\n",
              "    </tr>\n",
              "    <tr>\n",
              "      <th>549</th>\n",
              "      <td>550</td>\n",
              "      <td>Produk_550</td>\n",
              "      <td>Tablet</td>\n",
              "      <td>388.0</td>\n",
              "      <td>4.3</td>\n",
              "      <td>240.0</td>\n",
              "      <td>Germany</td>\n",
              "    </tr>\n",
              "  </tbody>\n",
              "</table>\n",
              "</div>\n",
              "    <div class=\"colab-df-buttons\">\n",
              "\n",
              "  <div class=\"colab-df-container\">\n",
              "    <button class=\"colab-df-convert\" onclick=\"convertToInteractive('df-2b72b8e8-071b-487a-8756-015049dc2a81')\"\n",
              "            title=\"Convert this dataframe to an interactive table.\"\n",
              "            style=\"display:none;\">\n",
              "\n",
              "  <svg xmlns=\"http://www.w3.org/2000/svg\" height=\"24px\" viewBox=\"0 -960 960 960\">\n",
              "    <path d=\"M120-120v-720h720v720H120Zm60-500h600v-160H180v160Zm220 220h160v-160H400v160Zm0 220h160v-160H400v160ZM180-400h160v-160H180v160Zm440 0h160v-160H620v160ZM180-180h160v-160H180v160Zm440 0h160v-160H620v160Z\"/>\n",
              "  </svg>\n",
              "    </button>\n",
              "\n",
              "  <style>\n",
              "    .colab-df-container {\n",
              "      display:flex;\n",
              "      gap: 12px;\n",
              "    }\n",
              "\n",
              "    .colab-df-convert {\n",
              "      background-color: #E8F0FE;\n",
              "      border: none;\n",
              "      border-radius: 50%;\n",
              "      cursor: pointer;\n",
              "      display: none;\n",
              "      fill: #1967D2;\n",
              "      height: 32px;\n",
              "      padding: 0 0 0 0;\n",
              "      width: 32px;\n",
              "    }\n",
              "\n",
              "    .colab-df-convert:hover {\n",
              "      background-color: #E2EBFA;\n",
              "      box-shadow: 0px 1px 2px rgba(60, 64, 67, 0.3), 0px 1px 3px 1px rgba(60, 64, 67, 0.15);\n",
              "      fill: #174EA6;\n",
              "    }\n",
              "\n",
              "    .colab-df-buttons div {\n",
              "      margin-bottom: 4px;\n",
              "    }\n",
              "\n",
              "    [theme=dark] .colab-df-convert {\n",
              "      background-color: #3B4455;\n",
              "      fill: #D2E3FC;\n",
              "    }\n",
              "\n",
              "    [theme=dark] .colab-df-convert:hover {\n",
              "      background-color: #434B5C;\n",
              "      box-shadow: 0px 1px 3px 1px rgba(0, 0, 0, 0.15);\n",
              "      filter: drop-shadow(0px 1px 2px rgba(0, 0, 0, 0.3));\n",
              "      fill: #FFFFFF;\n",
              "    }\n",
              "  </style>\n",
              "\n",
              "    <script>\n",
              "      const buttonEl =\n",
              "        document.querySelector('#df-2b72b8e8-071b-487a-8756-015049dc2a81 button.colab-df-convert');\n",
              "      buttonEl.style.display =\n",
              "        google.colab.kernel.accessAllowed ? 'block' : 'none';\n",
              "\n",
              "      async function convertToInteractive(key) {\n",
              "        const element = document.querySelector('#df-2b72b8e8-071b-487a-8756-015049dc2a81');\n",
              "        const dataTable =\n",
              "          await google.colab.kernel.invokeFunction('convertToInteractive',\n",
              "                                                    [key], {});\n",
              "        if (!dataTable) return;\n",
              "\n",
              "        const docLinkHtml = 'Like what you see? Visit the ' +\n",
              "          '<a target=\"_blank\" href=https://colab.research.google.com/notebooks/data_table.ipynb>data table notebook</a>'\n",
              "          + ' to learn more about interactive tables.';\n",
              "        element.innerHTML = '';\n",
              "        dataTable['output_type'] = 'display_data';\n",
              "        await google.colab.output.renderOutput(dataTable, element);\n",
              "        const docLink = document.createElement('div');\n",
              "        docLink.innerHTML = docLinkHtml;\n",
              "        element.appendChild(docLink);\n",
              "      }\n",
              "    </script>\n",
              "  </div>\n",
              "\n",
              "\n",
              "<div id=\"df-170d5ef9-9a77-4178-ab4b-310311ebffba\">\n",
              "  <button class=\"colab-df-quickchart\" onclick=\"quickchart('df-170d5ef9-9a77-4178-ab4b-310311ebffba')\"\n",
              "            title=\"Suggest charts\"\n",
              "            style=\"display:none;\">\n",
              "\n",
              "<svg xmlns=\"http://www.w3.org/2000/svg\" height=\"24px\"viewBox=\"0 0 24 24\"\n",
              "     width=\"24px\">\n",
              "    <g>\n",
              "        <path d=\"M19 3H5c-1.1 0-2 .9-2 2v14c0 1.1.9 2 2 2h14c1.1 0 2-.9 2-2V5c0-1.1-.9-2-2-2zM9 17H7v-7h2v7zm4 0h-2V7h2v10zm4 0h-2v-4h2v4z\"/>\n",
              "    </g>\n",
              "</svg>\n",
              "  </button>\n",
              "\n",
              "<style>\n",
              "  .colab-df-quickchart {\n",
              "      --bg-color: #E8F0FE;\n",
              "      --fill-color: #1967D2;\n",
              "      --hover-bg-color: #E2EBFA;\n",
              "      --hover-fill-color: #174EA6;\n",
              "      --disabled-fill-color: #AAA;\n",
              "      --disabled-bg-color: #DDD;\n",
              "  }\n",
              "\n",
              "  [theme=dark] .colab-df-quickchart {\n",
              "      --bg-color: #3B4455;\n",
              "      --fill-color: #D2E3FC;\n",
              "      --hover-bg-color: #434B5C;\n",
              "      --hover-fill-color: #FFFFFF;\n",
              "      --disabled-bg-color: #3B4455;\n",
              "      --disabled-fill-color: #666;\n",
              "  }\n",
              "\n",
              "  .colab-df-quickchart {\n",
              "    background-color: var(--bg-color);\n",
              "    border: none;\n",
              "    border-radius: 50%;\n",
              "    cursor: pointer;\n",
              "    display: none;\n",
              "    fill: var(--fill-color);\n",
              "    height: 32px;\n",
              "    padding: 0;\n",
              "    width: 32px;\n",
              "  }\n",
              "\n",
              "  .colab-df-quickchart:hover {\n",
              "    background-color: var(--hover-bg-color);\n",
              "    box-shadow: 0 1px 2px rgba(60, 64, 67, 0.3), 0 1px 3px 1px rgba(60, 64, 67, 0.15);\n",
              "    fill: var(--button-hover-fill-color);\n",
              "  }\n",
              "\n",
              "  .colab-df-quickchart-complete:disabled,\n",
              "  .colab-df-quickchart-complete:disabled:hover {\n",
              "    background-color: var(--disabled-bg-color);\n",
              "    fill: var(--disabled-fill-color);\n",
              "    box-shadow: none;\n",
              "  }\n",
              "\n",
              "  .colab-df-spinner {\n",
              "    border: 2px solid var(--fill-color);\n",
              "    border-color: transparent;\n",
              "    border-bottom-color: var(--fill-color);\n",
              "    animation:\n",
              "      spin 1s steps(1) infinite;\n",
              "  }\n",
              "\n",
              "  @keyframes spin {\n",
              "    0% {\n",
              "      border-color: transparent;\n",
              "      border-bottom-color: var(--fill-color);\n",
              "      border-left-color: var(--fill-color);\n",
              "    }\n",
              "    20% {\n",
              "      border-color: transparent;\n",
              "      border-left-color: var(--fill-color);\n",
              "      border-top-color: var(--fill-color);\n",
              "    }\n",
              "    30% {\n",
              "      border-color: transparent;\n",
              "      border-left-color: var(--fill-color);\n",
              "      border-top-color: var(--fill-color);\n",
              "      border-right-color: var(--fill-color);\n",
              "    }\n",
              "    40% {\n",
              "      border-color: transparent;\n",
              "      border-right-color: var(--fill-color);\n",
              "      border-top-color: var(--fill-color);\n",
              "    }\n",
              "    60% {\n",
              "      border-color: transparent;\n",
              "      border-right-color: var(--fill-color);\n",
              "    }\n",
              "    80% {\n",
              "      border-color: transparent;\n",
              "      border-right-color: var(--fill-color);\n",
              "      border-bottom-color: var(--fill-color);\n",
              "    }\n",
              "    90% {\n",
              "      border-color: transparent;\n",
              "      border-bottom-color: var(--fill-color);\n",
              "    }\n",
              "  }\n",
              "</style>\n",
              "\n",
              "  <script>\n",
              "    async function quickchart(key) {\n",
              "      const quickchartButtonEl =\n",
              "        document.querySelector('#' + key + ' button');\n",
              "      quickchartButtonEl.disabled = true;  // To prevent multiple clicks.\n",
              "      quickchartButtonEl.classList.add('colab-df-spinner');\n",
              "      try {\n",
              "        const charts = await google.colab.kernel.invokeFunction(\n",
              "            'suggestCharts', [key], {});\n",
              "      } catch (error) {\n",
              "        console.error('Error during call to suggestCharts:', error);\n",
              "      }\n",
              "      quickchartButtonEl.classList.remove('colab-df-spinner');\n",
              "      quickchartButtonEl.classList.add('colab-df-quickchart-complete');\n",
              "    }\n",
              "    (() => {\n",
              "      let quickchartButtonEl =\n",
              "        document.querySelector('#df-170d5ef9-9a77-4178-ab4b-310311ebffba button');\n",
              "      quickchartButtonEl.style.display =\n",
              "        google.colab.kernel.accessAllowed ? 'block' : 'none';\n",
              "    })();\n",
              "  </script>\n",
              "</div>\n",
              "\n",
              "    </div>\n",
              "  </div>\n"
            ],
            "application/vnd.google.colaboratory.intrinsic+json": {
              "type": "dataframe",
              "summary": "{\n  \"name\": \"data\",\n  \"rows\": 5,\n  \"fields\": [\n    {\n      \"column\": \"produk_id\",\n      \"properties\": {\n        \"dtype\": \"number\",\n        \"std\": 1,\n        \"min\": 546,\n        \"max\": 550,\n        \"num_unique_values\": 5,\n        \"samples\": [\n          547,\n          550,\n          548\n        ],\n        \"semantic_type\": \"\",\n        \"description\": \"\"\n      }\n    },\n    {\n      \"column\": \"nama_produk\",\n      \"properties\": {\n        \"dtype\": \"string\",\n        \"num_unique_values\": 5,\n        \"samples\": [\n          \"Produk_547\",\n          \"Produk_550\",\n          \"Produk_548\"\n        ],\n        \"semantic_type\": \"\",\n        \"description\": \"\"\n      }\n    },\n    {\n      \"column\": \"kategori\",\n      \"properties\": {\n        \"dtype\": \"string\",\n        \"num_unique_values\": 3,\n        \"samples\": [\n          \"Laptop\",\n          \"Headphone\",\n          \"Tablet\"\n        ],\n        \"semantic_type\": \"\",\n        \"description\": \"\"\n      }\n    },\n    {\n      \"column\": \"harga\",\n      \"properties\": {\n        \"dtype\": \"number\",\n        \"std\": 86.65621731878215,\n        \"min\": 388.0,\n        \"max\": 628.0,\n        \"num_unique_values\": 5,\n        \"samples\": [\n          628.0,\n          388.0,\n          465.0\n        ],\n        \"semantic_type\": \"\",\n        \"description\": \"\"\n      }\n    },\n    {\n      \"column\": \"rating\",\n      \"properties\": {\n        \"dtype\": \"number\",\n        \"std\": 0.6066300355241241,\n        \"min\": 3.1,\n        \"max\": 4.7,\n        \"num_unique_values\": 4,\n        \"samples\": [\n          4.7,\n          3.1,\n          3.9\n        ],\n        \"semantic_type\": \"\",\n        \"description\": \"\"\n      }\n    },\n    {\n      \"column\": \"jumlah_ulasan\",\n      \"properties\": {\n        \"dtype\": \"number\",\n        \"std\": 159.13924720193947,\n        \"min\": 19.0,\n        \"max\": 414.0,\n        \"num_unique_values\": 5,\n        \"samples\": [\n          414.0,\n          240.0,\n          393.0\n        ],\n        \"semantic_type\": \"\",\n        \"description\": \"\"\n      }\n    },\n    {\n      \"column\": \"negara_asal\",\n      \"properties\": {\n        \"dtype\": \"string\",\n        \"num_unique_values\": 4,\n        \"samples\": [\n          \"USA\",\n          \"Germany\",\n          \"China\"\n        ],\n        \"semantic_type\": \"\",\n        \"description\": \"\"\n      }\n    }\n  ]\n}"
            }
          },
          "metadata": {},
          "execution_count": 46
        }
      ]
    },
    {
      "cell_type": "code",
      "source": [
        "#melihat statistika deskriptif\n",
        "data.describe()"
      ],
      "metadata": {
        "colab": {
          "base_uri": "https://localhost:8080/",
          "height": 300
        },
        "id": "a6b5BnHmT7It",
        "outputId": "8a3c1c58-0d33-4f70-8551-fd7e0ede0429"
      },
      "execution_count": 47,
      "outputs": [
        {
          "output_type": "execute_result",
          "data": {
            "text/plain": [
              "        produk_id        harga      rating  jumlah_ulasan\n",
              "count  550.000000   520.000000  500.000000     530.000000\n",
              "mean   275.500000   565.715385    4.005600     259.671698\n",
              "std    158.915596   625.886725    0.571052     142.655380\n",
              "min      1.000000  -213.000000    3.000000      12.000000\n",
              "25%    138.250000   374.000000    3.500000     139.000000\n",
              "50%    275.500000   516.000000    4.000000     262.500000\n",
              "75%    412.750000   656.250000    4.500000     390.750000\n",
              "max    550.000000  8341.000000    5.000000     499.000000"
            ],
            "text/html": [
              "\n",
              "  <div id=\"df-a3b23257-696b-40fa-9039-bb9171202011\" class=\"colab-df-container\">\n",
              "    <div>\n",
              "<style scoped>\n",
              "    .dataframe tbody tr th:only-of-type {\n",
              "        vertical-align: middle;\n",
              "    }\n",
              "\n",
              "    .dataframe tbody tr th {\n",
              "        vertical-align: top;\n",
              "    }\n",
              "\n",
              "    .dataframe thead th {\n",
              "        text-align: right;\n",
              "    }\n",
              "</style>\n",
              "<table border=\"1\" class=\"dataframe\">\n",
              "  <thead>\n",
              "    <tr style=\"text-align: right;\">\n",
              "      <th></th>\n",
              "      <th>produk_id</th>\n",
              "      <th>harga</th>\n",
              "      <th>rating</th>\n",
              "      <th>jumlah_ulasan</th>\n",
              "    </tr>\n",
              "  </thead>\n",
              "  <tbody>\n",
              "    <tr>\n",
              "      <th>count</th>\n",
              "      <td>550.000000</td>\n",
              "      <td>520.000000</td>\n",
              "      <td>500.000000</td>\n",
              "      <td>530.000000</td>\n",
              "    </tr>\n",
              "    <tr>\n",
              "      <th>mean</th>\n",
              "      <td>275.500000</td>\n",
              "      <td>565.715385</td>\n",
              "      <td>4.005600</td>\n",
              "      <td>259.671698</td>\n",
              "    </tr>\n",
              "    <tr>\n",
              "      <th>std</th>\n",
              "      <td>158.915596</td>\n",
              "      <td>625.886725</td>\n",
              "      <td>0.571052</td>\n",
              "      <td>142.655380</td>\n",
              "    </tr>\n",
              "    <tr>\n",
              "      <th>min</th>\n",
              "      <td>1.000000</td>\n",
              "      <td>-213.000000</td>\n",
              "      <td>3.000000</td>\n",
              "      <td>12.000000</td>\n",
              "    </tr>\n",
              "    <tr>\n",
              "      <th>25%</th>\n",
              "      <td>138.250000</td>\n",
              "      <td>374.000000</td>\n",
              "      <td>3.500000</td>\n",
              "      <td>139.000000</td>\n",
              "    </tr>\n",
              "    <tr>\n",
              "      <th>50%</th>\n",
              "      <td>275.500000</td>\n",
              "      <td>516.000000</td>\n",
              "      <td>4.000000</td>\n",
              "      <td>262.500000</td>\n",
              "    </tr>\n",
              "    <tr>\n",
              "      <th>75%</th>\n",
              "      <td>412.750000</td>\n",
              "      <td>656.250000</td>\n",
              "      <td>4.500000</td>\n",
              "      <td>390.750000</td>\n",
              "    </tr>\n",
              "    <tr>\n",
              "      <th>max</th>\n",
              "      <td>550.000000</td>\n",
              "      <td>8341.000000</td>\n",
              "      <td>5.000000</td>\n",
              "      <td>499.000000</td>\n",
              "    </tr>\n",
              "  </tbody>\n",
              "</table>\n",
              "</div>\n",
              "    <div class=\"colab-df-buttons\">\n",
              "\n",
              "  <div class=\"colab-df-container\">\n",
              "    <button class=\"colab-df-convert\" onclick=\"convertToInteractive('df-a3b23257-696b-40fa-9039-bb9171202011')\"\n",
              "            title=\"Convert this dataframe to an interactive table.\"\n",
              "            style=\"display:none;\">\n",
              "\n",
              "  <svg xmlns=\"http://www.w3.org/2000/svg\" height=\"24px\" viewBox=\"0 -960 960 960\">\n",
              "    <path d=\"M120-120v-720h720v720H120Zm60-500h600v-160H180v160Zm220 220h160v-160H400v160Zm0 220h160v-160H400v160ZM180-400h160v-160H180v160Zm440 0h160v-160H620v160ZM180-180h160v-160H180v160Zm440 0h160v-160H620v160Z\"/>\n",
              "  </svg>\n",
              "    </button>\n",
              "\n",
              "  <style>\n",
              "    .colab-df-container {\n",
              "      display:flex;\n",
              "      gap: 12px;\n",
              "    }\n",
              "\n",
              "    .colab-df-convert {\n",
              "      background-color: #E8F0FE;\n",
              "      border: none;\n",
              "      border-radius: 50%;\n",
              "      cursor: pointer;\n",
              "      display: none;\n",
              "      fill: #1967D2;\n",
              "      height: 32px;\n",
              "      padding: 0 0 0 0;\n",
              "      width: 32px;\n",
              "    }\n",
              "\n",
              "    .colab-df-convert:hover {\n",
              "      background-color: #E2EBFA;\n",
              "      box-shadow: 0px 1px 2px rgba(60, 64, 67, 0.3), 0px 1px 3px 1px rgba(60, 64, 67, 0.15);\n",
              "      fill: #174EA6;\n",
              "    }\n",
              "\n",
              "    .colab-df-buttons div {\n",
              "      margin-bottom: 4px;\n",
              "    }\n",
              "\n",
              "    [theme=dark] .colab-df-convert {\n",
              "      background-color: #3B4455;\n",
              "      fill: #D2E3FC;\n",
              "    }\n",
              "\n",
              "    [theme=dark] .colab-df-convert:hover {\n",
              "      background-color: #434B5C;\n",
              "      box-shadow: 0px 1px 3px 1px rgba(0, 0, 0, 0.15);\n",
              "      filter: drop-shadow(0px 1px 2px rgba(0, 0, 0, 0.3));\n",
              "      fill: #FFFFFF;\n",
              "    }\n",
              "  </style>\n",
              "\n",
              "    <script>\n",
              "      const buttonEl =\n",
              "        document.querySelector('#df-a3b23257-696b-40fa-9039-bb9171202011 button.colab-df-convert');\n",
              "      buttonEl.style.display =\n",
              "        google.colab.kernel.accessAllowed ? 'block' : 'none';\n",
              "\n",
              "      async function convertToInteractive(key) {\n",
              "        const element = document.querySelector('#df-a3b23257-696b-40fa-9039-bb9171202011');\n",
              "        const dataTable =\n",
              "          await google.colab.kernel.invokeFunction('convertToInteractive',\n",
              "                                                    [key], {});\n",
              "        if (!dataTable) return;\n",
              "\n",
              "        const docLinkHtml = 'Like what you see? Visit the ' +\n",
              "          '<a target=\"_blank\" href=https://colab.research.google.com/notebooks/data_table.ipynb>data table notebook</a>'\n",
              "          + ' to learn more about interactive tables.';\n",
              "        element.innerHTML = '';\n",
              "        dataTable['output_type'] = 'display_data';\n",
              "        await google.colab.output.renderOutput(dataTable, element);\n",
              "        const docLink = document.createElement('div');\n",
              "        docLink.innerHTML = docLinkHtml;\n",
              "        element.appendChild(docLink);\n",
              "      }\n",
              "    </script>\n",
              "  </div>\n",
              "\n",
              "\n",
              "<div id=\"df-68bec158-72ca-455e-a390-cc2d6fc05ff6\">\n",
              "  <button class=\"colab-df-quickchart\" onclick=\"quickchart('df-68bec158-72ca-455e-a390-cc2d6fc05ff6')\"\n",
              "            title=\"Suggest charts\"\n",
              "            style=\"display:none;\">\n",
              "\n",
              "<svg xmlns=\"http://www.w3.org/2000/svg\" height=\"24px\"viewBox=\"0 0 24 24\"\n",
              "     width=\"24px\">\n",
              "    <g>\n",
              "        <path d=\"M19 3H5c-1.1 0-2 .9-2 2v14c0 1.1.9 2 2 2h14c1.1 0 2-.9 2-2V5c0-1.1-.9-2-2-2zM9 17H7v-7h2v7zm4 0h-2V7h2v10zm4 0h-2v-4h2v4z\"/>\n",
              "    </g>\n",
              "</svg>\n",
              "  </button>\n",
              "\n",
              "<style>\n",
              "  .colab-df-quickchart {\n",
              "      --bg-color: #E8F0FE;\n",
              "      --fill-color: #1967D2;\n",
              "      --hover-bg-color: #E2EBFA;\n",
              "      --hover-fill-color: #174EA6;\n",
              "      --disabled-fill-color: #AAA;\n",
              "      --disabled-bg-color: #DDD;\n",
              "  }\n",
              "\n",
              "  [theme=dark] .colab-df-quickchart {\n",
              "      --bg-color: #3B4455;\n",
              "      --fill-color: #D2E3FC;\n",
              "      --hover-bg-color: #434B5C;\n",
              "      --hover-fill-color: #FFFFFF;\n",
              "      --disabled-bg-color: #3B4455;\n",
              "      --disabled-fill-color: #666;\n",
              "  }\n",
              "\n",
              "  .colab-df-quickchart {\n",
              "    background-color: var(--bg-color);\n",
              "    border: none;\n",
              "    border-radius: 50%;\n",
              "    cursor: pointer;\n",
              "    display: none;\n",
              "    fill: var(--fill-color);\n",
              "    height: 32px;\n",
              "    padding: 0;\n",
              "    width: 32px;\n",
              "  }\n",
              "\n",
              "  .colab-df-quickchart:hover {\n",
              "    background-color: var(--hover-bg-color);\n",
              "    box-shadow: 0 1px 2px rgba(60, 64, 67, 0.3), 0 1px 3px 1px rgba(60, 64, 67, 0.15);\n",
              "    fill: var(--button-hover-fill-color);\n",
              "  }\n",
              "\n",
              "  .colab-df-quickchart-complete:disabled,\n",
              "  .colab-df-quickchart-complete:disabled:hover {\n",
              "    background-color: var(--disabled-bg-color);\n",
              "    fill: var(--disabled-fill-color);\n",
              "    box-shadow: none;\n",
              "  }\n",
              "\n",
              "  .colab-df-spinner {\n",
              "    border: 2px solid var(--fill-color);\n",
              "    border-color: transparent;\n",
              "    border-bottom-color: var(--fill-color);\n",
              "    animation:\n",
              "      spin 1s steps(1) infinite;\n",
              "  }\n",
              "\n",
              "  @keyframes spin {\n",
              "    0% {\n",
              "      border-color: transparent;\n",
              "      border-bottom-color: var(--fill-color);\n",
              "      border-left-color: var(--fill-color);\n",
              "    }\n",
              "    20% {\n",
              "      border-color: transparent;\n",
              "      border-left-color: var(--fill-color);\n",
              "      border-top-color: var(--fill-color);\n",
              "    }\n",
              "    30% {\n",
              "      border-color: transparent;\n",
              "      border-left-color: var(--fill-color);\n",
              "      border-top-color: var(--fill-color);\n",
              "      border-right-color: var(--fill-color);\n",
              "    }\n",
              "    40% {\n",
              "      border-color: transparent;\n",
              "      border-right-color: var(--fill-color);\n",
              "      border-top-color: var(--fill-color);\n",
              "    }\n",
              "    60% {\n",
              "      border-color: transparent;\n",
              "      border-right-color: var(--fill-color);\n",
              "    }\n",
              "    80% {\n",
              "      border-color: transparent;\n",
              "      border-right-color: var(--fill-color);\n",
              "      border-bottom-color: var(--fill-color);\n",
              "    }\n",
              "    90% {\n",
              "      border-color: transparent;\n",
              "      border-bottom-color: var(--fill-color);\n",
              "    }\n",
              "  }\n",
              "</style>\n",
              "\n",
              "  <script>\n",
              "    async function quickchart(key) {\n",
              "      const quickchartButtonEl =\n",
              "        document.querySelector('#' + key + ' button');\n",
              "      quickchartButtonEl.disabled = true;  // To prevent multiple clicks.\n",
              "      quickchartButtonEl.classList.add('colab-df-spinner');\n",
              "      try {\n",
              "        const charts = await google.colab.kernel.invokeFunction(\n",
              "            'suggestCharts', [key], {});\n",
              "      } catch (error) {\n",
              "        console.error('Error during call to suggestCharts:', error);\n",
              "      }\n",
              "      quickchartButtonEl.classList.remove('colab-df-spinner');\n",
              "      quickchartButtonEl.classList.add('colab-df-quickchart-complete');\n",
              "    }\n",
              "    (() => {\n",
              "      let quickchartButtonEl =\n",
              "        document.querySelector('#df-68bec158-72ca-455e-a390-cc2d6fc05ff6 button');\n",
              "      quickchartButtonEl.style.display =\n",
              "        google.colab.kernel.accessAllowed ? 'block' : 'none';\n",
              "    })();\n",
              "  </script>\n",
              "</div>\n",
              "\n",
              "    </div>\n",
              "  </div>\n"
            ],
            "application/vnd.google.colaboratory.intrinsic+json": {
              "type": "dataframe",
              "summary": "{\n  \"name\": \"data\",\n  \"rows\": 8,\n  \"fields\": [\n    {\n      \"column\": \"produk_id\",\n      \"properties\": {\n        \"dtype\": \"number\",\n        \"std\": 197.9179596669068,\n        \"min\": 1.0,\n        \"max\": 550.0,\n        \"num_unique_values\": 6,\n        \"samples\": [\n          550.0,\n          275.5,\n          412.75\n        ],\n        \"semantic_type\": \"\",\n        \"description\": \"\"\n      }\n    },\n    {\n      \"column\": \"harga\",\n      \"properties\": {\n        \"dtype\": \"number\",\n        \"std\": 2808.96296621019,\n        \"min\": -213.0,\n        \"max\": 8341.0,\n        \"num_unique_values\": 8,\n        \"samples\": [\n          565.7153846153847,\n          516.0,\n          520.0\n        ],\n        \"semantic_type\": \"\",\n        \"description\": \"\"\n      }\n    },\n    {\n      \"column\": \"rating\",\n      \"properties\": {\n        \"dtype\": \"number\",\n        \"std\": 175.54050729187298,\n        \"min\": 0.5710523983693329,\n        \"max\": 500.0,\n        \"num_unique_values\": 8,\n        \"samples\": [\n          4.0056,\n          4.0,\n          500.0\n        ],\n        \"semantic_type\": \"\",\n        \"description\": \"\"\n      }\n    },\n    {\n      \"column\": \"jumlah_ulasan\",\n      \"properties\": {\n        \"dtype\": \"number\",\n        \"std\": 182.83956735825046,\n        \"min\": 12.0,\n        \"max\": 530.0,\n        \"num_unique_values\": 8,\n        \"samples\": [\n          259.6716981132075,\n          262.5,\n          530.0\n        ],\n        \"semantic_type\": \"\",\n        \"description\": \"\"\n      }\n    }\n  ]\n}"
            }
          },
          "metadata": {},
          "execution_count": 47
        }
      ]
    },
    {
      "cell_type": "code",
      "source": [
        "data.info()"
      ],
      "metadata": {
        "colab": {
          "base_uri": "https://localhost:8080/"
        },
        "id": "bX6uVTEnT_Yp",
        "outputId": "fd05eff8-fa42-42a9-f6a3-8df223e1b6f7"
      },
      "execution_count": 48,
      "outputs": [
        {
          "output_type": "stream",
          "name": "stdout",
          "text": [
            "<class 'pandas.core.frame.DataFrame'>\n",
            "RangeIndex: 550 entries, 0 to 549\n",
            "Data columns (total 7 columns):\n",
            " #   Column         Non-Null Count  Dtype  \n",
            "---  ------         --------------  -----  \n",
            " 0   produk_id      550 non-null    int64  \n",
            " 1   nama_produk    550 non-null    object \n",
            " 2   kategori       550 non-null    object \n",
            " 3   harga          520 non-null    float64\n",
            " 4   rating         500 non-null    float64\n",
            " 5   jumlah_ulasan  530 non-null    float64\n",
            " 6   negara_asal    550 non-null    object \n",
            "dtypes: float64(3), int64(1), object(3)\n",
            "memory usage: 30.2+ KB\n"
          ]
        }
      ]
    },
    {
      "cell_type": "markdown",
      "source": [
        "Berdasarkan output diatas, dapat disimpulkan bahwa dataset tersebut, memiliki total: 7 kolom, dengan jumlah maksimal baris untuk setiap kolom sebanyak: 550 baris. Akan tetapi terdapat beberapa kolom yang memiliki jumlah baris < 550, maka akan dilakukan proses identifikasi lebih lanjut."
      ],
      "metadata": {
        "id": "31l8Y_d9UGl9"
      }
    },
    {
      "cell_type": "markdown",
      "source": [
        "2. DETEKSI MISSING VALUE"
      ],
      "metadata": {
        "id": "hMdTLrtoUHvD"
      }
    },
    {
      "cell_type": "code",
      "source": [
        "data.isnull()"
      ],
      "metadata": {
        "colab": {
          "base_uri": "https://localhost:8080/",
          "height": 424
        },
        "id": "MPEQbbU1ULKt",
        "outputId": "8af5d5ba-d518-42f9-e636-ce893eed786b"
      },
      "execution_count": 49,
      "outputs": [
        {
          "output_type": "execute_result",
          "data": {
            "text/plain": [
              "     produk_id  nama_produk  kategori  harga  rating  jumlah_ulasan  \\\n",
              "0        False        False     False  False   False          False   \n",
              "1        False        False     False  False   False          False   \n",
              "2        False        False     False  False   False          False   \n",
              "3        False        False     False  False   False          False   \n",
              "4        False        False     False  False   False          False   \n",
              "..         ...          ...       ...    ...     ...            ...   \n",
              "545      False        False     False  False   False          False   \n",
              "546      False        False     False  False   False          False   \n",
              "547      False        False     False  False   False          False   \n",
              "548      False        False     False  False   False          False   \n",
              "549      False        False     False  False   False          False   \n",
              "\n",
              "     negara_asal  \n",
              "0          False  \n",
              "1          False  \n",
              "2          False  \n",
              "3          False  \n",
              "4          False  \n",
              "..           ...  \n",
              "545        False  \n",
              "546        False  \n",
              "547        False  \n",
              "548        False  \n",
              "549        False  \n",
              "\n",
              "[550 rows x 7 columns]"
            ],
            "text/html": [
              "\n",
              "  <div id=\"df-47ef1d30-3f02-415a-ad58-c873d178df3a\" class=\"colab-df-container\">\n",
              "    <div>\n",
              "<style scoped>\n",
              "    .dataframe tbody tr th:only-of-type {\n",
              "        vertical-align: middle;\n",
              "    }\n",
              "\n",
              "    .dataframe tbody tr th {\n",
              "        vertical-align: top;\n",
              "    }\n",
              "\n",
              "    .dataframe thead th {\n",
              "        text-align: right;\n",
              "    }\n",
              "</style>\n",
              "<table border=\"1\" class=\"dataframe\">\n",
              "  <thead>\n",
              "    <tr style=\"text-align: right;\">\n",
              "      <th></th>\n",
              "      <th>produk_id</th>\n",
              "      <th>nama_produk</th>\n",
              "      <th>kategori</th>\n",
              "      <th>harga</th>\n",
              "      <th>rating</th>\n",
              "      <th>jumlah_ulasan</th>\n",
              "      <th>negara_asal</th>\n",
              "    </tr>\n",
              "  </thead>\n",
              "  <tbody>\n",
              "    <tr>\n",
              "      <th>0</th>\n",
              "      <td>False</td>\n",
              "      <td>False</td>\n",
              "      <td>False</td>\n",
              "      <td>False</td>\n",
              "      <td>False</td>\n",
              "      <td>False</td>\n",
              "      <td>False</td>\n",
              "    </tr>\n",
              "    <tr>\n",
              "      <th>1</th>\n",
              "      <td>False</td>\n",
              "      <td>False</td>\n",
              "      <td>False</td>\n",
              "      <td>False</td>\n",
              "      <td>False</td>\n",
              "      <td>False</td>\n",
              "      <td>False</td>\n",
              "    </tr>\n",
              "    <tr>\n",
              "      <th>2</th>\n",
              "      <td>False</td>\n",
              "      <td>False</td>\n",
              "      <td>False</td>\n",
              "      <td>False</td>\n",
              "      <td>False</td>\n",
              "      <td>False</td>\n",
              "      <td>False</td>\n",
              "    </tr>\n",
              "    <tr>\n",
              "      <th>3</th>\n",
              "      <td>False</td>\n",
              "      <td>False</td>\n",
              "      <td>False</td>\n",
              "      <td>False</td>\n",
              "      <td>False</td>\n",
              "      <td>False</td>\n",
              "      <td>False</td>\n",
              "    </tr>\n",
              "    <tr>\n",
              "      <th>4</th>\n",
              "      <td>False</td>\n",
              "      <td>False</td>\n",
              "      <td>False</td>\n",
              "      <td>False</td>\n",
              "      <td>False</td>\n",
              "      <td>False</td>\n",
              "      <td>False</td>\n",
              "    </tr>\n",
              "    <tr>\n",
              "      <th>...</th>\n",
              "      <td>...</td>\n",
              "      <td>...</td>\n",
              "      <td>...</td>\n",
              "      <td>...</td>\n",
              "      <td>...</td>\n",
              "      <td>...</td>\n",
              "      <td>...</td>\n",
              "    </tr>\n",
              "    <tr>\n",
              "      <th>545</th>\n",
              "      <td>False</td>\n",
              "      <td>False</td>\n",
              "      <td>False</td>\n",
              "      <td>False</td>\n",
              "      <td>False</td>\n",
              "      <td>False</td>\n",
              "      <td>False</td>\n",
              "    </tr>\n",
              "    <tr>\n",
              "      <th>546</th>\n",
              "      <td>False</td>\n",
              "      <td>False</td>\n",
              "      <td>False</td>\n",
              "      <td>False</td>\n",
              "      <td>False</td>\n",
              "      <td>False</td>\n",
              "      <td>False</td>\n",
              "    </tr>\n",
              "    <tr>\n",
              "      <th>547</th>\n",
              "      <td>False</td>\n",
              "      <td>False</td>\n",
              "      <td>False</td>\n",
              "      <td>False</td>\n",
              "      <td>False</td>\n",
              "      <td>False</td>\n",
              "      <td>False</td>\n",
              "    </tr>\n",
              "    <tr>\n",
              "      <th>548</th>\n",
              "      <td>False</td>\n",
              "      <td>False</td>\n",
              "      <td>False</td>\n",
              "      <td>False</td>\n",
              "      <td>False</td>\n",
              "      <td>False</td>\n",
              "      <td>False</td>\n",
              "    </tr>\n",
              "    <tr>\n",
              "      <th>549</th>\n",
              "      <td>False</td>\n",
              "      <td>False</td>\n",
              "      <td>False</td>\n",
              "      <td>False</td>\n",
              "      <td>False</td>\n",
              "      <td>False</td>\n",
              "      <td>False</td>\n",
              "    </tr>\n",
              "  </tbody>\n",
              "</table>\n",
              "<p>550 rows × 7 columns</p>\n",
              "</div>\n",
              "    <div class=\"colab-df-buttons\">\n",
              "\n",
              "  <div class=\"colab-df-container\">\n",
              "    <button class=\"colab-df-convert\" onclick=\"convertToInteractive('df-47ef1d30-3f02-415a-ad58-c873d178df3a')\"\n",
              "            title=\"Convert this dataframe to an interactive table.\"\n",
              "            style=\"display:none;\">\n",
              "\n",
              "  <svg xmlns=\"http://www.w3.org/2000/svg\" height=\"24px\" viewBox=\"0 -960 960 960\">\n",
              "    <path d=\"M120-120v-720h720v720H120Zm60-500h600v-160H180v160Zm220 220h160v-160H400v160Zm0 220h160v-160H400v160ZM180-400h160v-160H180v160Zm440 0h160v-160H620v160ZM180-180h160v-160H180v160Zm440 0h160v-160H620v160Z\"/>\n",
              "  </svg>\n",
              "    </button>\n",
              "\n",
              "  <style>\n",
              "    .colab-df-container {\n",
              "      display:flex;\n",
              "      gap: 12px;\n",
              "    }\n",
              "\n",
              "    .colab-df-convert {\n",
              "      background-color: #E8F0FE;\n",
              "      border: none;\n",
              "      border-radius: 50%;\n",
              "      cursor: pointer;\n",
              "      display: none;\n",
              "      fill: #1967D2;\n",
              "      height: 32px;\n",
              "      padding: 0 0 0 0;\n",
              "      width: 32px;\n",
              "    }\n",
              "\n",
              "    .colab-df-convert:hover {\n",
              "      background-color: #E2EBFA;\n",
              "      box-shadow: 0px 1px 2px rgba(60, 64, 67, 0.3), 0px 1px 3px 1px rgba(60, 64, 67, 0.15);\n",
              "      fill: #174EA6;\n",
              "    }\n",
              "\n",
              "    .colab-df-buttons div {\n",
              "      margin-bottom: 4px;\n",
              "    }\n",
              "\n",
              "    [theme=dark] .colab-df-convert {\n",
              "      background-color: #3B4455;\n",
              "      fill: #D2E3FC;\n",
              "    }\n",
              "\n",
              "    [theme=dark] .colab-df-convert:hover {\n",
              "      background-color: #434B5C;\n",
              "      box-shadow: 0px 1px 3px 1px rgba(0, 0, 0, 0.15);\n",
              "      filter: drop-shadow(0px 1px 2px rgba(0, 0, 0, 0.3));\n",
              "      fill: #FFFFFF;\n",
              "    }\n",
              "  </style>\n",
              "\n",
              "    <script>\n",
              "      const buttonEl =\n",
              "        document.querySelector('#df-47ef1d30-3f02-415a-ad58-c873d178df3a button.colab-df-convert');\n",
              "      buttonEl.style.display =\n",
              "        google.colab.kernel.accessAllowed ? 'block' : 'none';\n",
              "\n",
              "      async function convertToInteractive(key) {\n",
              "        const element = document.querySelector('#df-47ef1d30-3f02-415a-ad58-c873d178df3a');\n",
              "        const dataTable =\n",
              "          await google.colab.kernel.invokeFunction('convertToInteractive',\n",
              "                                                    [key], {});\n",
              "        if (!dataTable) return;\n",
              "\n",
              "        const docLinkHtml = 'Like what you see? Visit the ' +\n",
              "          '<a target=\"_blank\" href=https://colab.research.google.com/notebooks/data_table.ipynb>data table notebook</a>'\n",
              "          + ' to learn more about interactive tables.';\n",
              "        element.innerHTML = '';\n",
              "        dataTable['output_type'] = 'display_data';\n",
              "        await google.colab.output.renderOutput(dataTable, element);\n",
              "        const docLink = document.createElement('div');\n",
              "        docLink.innerHTML = docLinkHtml;\n",
              "        element.appendChild(docLink);\n",
              "      }\n",
              "    </script>\n",
              "  </div>\n",
              "\n",
              "\n",
              "<div id=\"df-afd3256a-ae56-477f-93bc-524f38df7af6\">\n",
              "  <button class=\"colab-df-quickchart\" onclick=\"quickchart('df-afd3256a-ae56-477f-93bc-524f38df7af6')\"\n",
              "            title=\"Suggest charts\"\n",
              "            style=\"display:none;\">\n",
              "\n",
              "<svg xmlns=\"http://www.w3.org/2000/svg\" height=\"24px\"viewBox=\"0 0 24 24\"\n",
              "     width=\"24px\">\n",
              "    <g>\n",
              "        <path d=\"M19 3H5c-1.1 0-2 .9-2 2v14c0 1.1.9 2 2 2h14c1.1 0 2-.9 2-2V5c0-1.1-.9-2-2-2zM9 17H7v-7h2v7zm4 0h-2V7h2v10zm4 0h-2v-4h2v4z\"/>\n",
              "    </g>\n",
              "</svg>\n",
              "  </button>\n",
              "\n",
              "<style>\n",
              "  .colab-df-quickchart {\n",
              "      --bg-color: #E8F0FE;\n",
              "      --fill-color: #1967D2;\n",
              "      --hover-bg-color: #E2EBFA;\n",
              "      --hover-fill-color: #174EA6;\n",
              "      --disabled-fill-color: #AAA;\n",
              "      --disabled-bg-color: #DDD;\n",
              "  }\n",
              "\n",
              "  [theme=dark] .colab-df-quickchart {\n",
              "      --bg-color: #3B4455;\n",
              "      --fill-color: #D2E3FC;\n",
              "      --hover-bg-color: #434B5C;\n",
              "      --hover-fill-color: #FFFFFF;\n",
              "      --disabled-bg-color: #3B4455;\n",
              "      --disabled-fill-color: #666;\n",
              "  }\n",
              "\n",
              "  .colab-df-quickchart {\n",
              "    background-color: var(--bg-color);\n",
              "    border: none;\n",
              "    border-radius: 50%;\n",
              "    cursor: pointer;\n",
              "    display: none;\n",
              "    fill: var(--fill-color);\n",
              "    height: 32px;\n",
              "    padding: 0;\n",
              "    width: 32px;\n",
              "  }\n",
              "\n",
              "  .colab-df-quickchart:hover {\n",
              "    background-color: var(--hover-bg-color);\n",
              "    box-shadow: 0 1px 2px rgba(60, 64, 67, 0.3), 0 1px 3px 1px rgba(60, 64, 67, 0.15);\n",
              "    fill: var(--button-hover-fill-color);\n",
              "  }\n",
              "\n",
              "  .colab-df-quickchart-complete:disabled,\n",
              "  .colab-df-quickchart-complete:disabled:hover {\n",
              "    background-color: var(--disabled-bg-color);\n",
              "    fill: var(--disabled-fill-color);\n",
              "    box-shadow: none;\n",
              "  }\n",
              "\n",
              "  .colab-df-spinner {\n",
              "    border: 2px solid var(--fill-color);\n",
              "    border-color: transparent;\n",
              "    border-bottom-color: var(--fill-color);\n",
              "    animation:\n",
              "      spin 1s steps(1) infinite;\n",
              "  }\n",
              "\n",
              "  @keyframes spin {\n",
              "    0% {\n",
              "      border-color: transparent;\n",
              "      border-bottom-color: var(--fill-color);\n",
              "      border-left-color: var(--fill-color);\n",
              "    }\n",
              "    20% {\n",
              "      border-color: transparent;\n",
              "      border-left-color: var(--fill-color);\n",
              "      border-top-color: var(--fill-color);\n",
              "    }\n",
              "    30% {\n",
              "      border-color: transparent;\n",
              "      border-left-color: var(--fill-color);\n",
              "      border-top-color: var(--fill-color);\n",
              "      border-right-color: var(--fill-color);\n",
              "    }\n",
              "    40% {\n",
              "      border-color: transparent;\n",
              "      border-right-color: var(--fill-color);\n",
              "      border-top-color: var(--fill-color);\n",
              "    }\n",
              "    60% {\n",
              "      border-color: transparent;\n",
              "      border-right-color: var(--fill-color);\n",
              "    }\n",
              "    80% {\n",
              "      border-color: transparent;\n",
              "      border-right-color: var(--fill-color);\n",
              "      border-bottom-color: var(--fill-color);\n",
              "    }\n",
              "    90% {\n",
              "      border-color: transparent;\n",
              "      border-bottom-color: var(--fill-color);\n",
              "    }\n",
              "  }\n",
              "</style>\n",
              "\n",
              "  <script>\n",
              "    async function quickchart(key) {\n",
              "      const quickchartButtonEl =\n",
              "        document.querySelector('#' + key + ' button');\n",
              "      quickchartButtonEl.disabled = true;  // To prevent multiple clicks.\n",
              "      quickchartButtonEl.classList.add('colab-df-spinner');\n",
              "      try {\n",
              "        const charts = await google.colab.kernel.invokeFunction(\n",
              "            'suggestCharts', [key], {});\n",
              "      } catch (error) {\n",
              "        console.error('Error during call to suggestCharts:', error);\n",
              "      }\n",
              "      quickchartButtonEl.classList.remove('colab-df-spinner');\n",
              "      quickchartButtonEl.classList.add('colab-df-quickchart-complete');\n",
              "    }\n",
              "    (() => {\n",
              "      let quickchartButtonEl =\n",
              "        document.querySelector('#df-afd3256a-ae56-477f-93bc-524f38df7af6 button');\n",
              "      quickchartButtonEl.style.display =\n",
              "        google.colab.kernel.accessAllowed ? 'block' : 'none';\n",
              "    })();\n",
              "  </script>\n",
              "</div>\n",
              "\n",
              "    </div>\n",
              "  </div>\n"
            ],
            "application/vnd.google.colaboratory.intrinsic+json": {
              "type": "dataframe",
              "summary": "{\n  \"name\": \"data\",\n  \"rows\": 550,\n  \"fields\": [\n    {\n      \"column\": \"produk_id\",\n      \"properties\": {\n        \"dtype\": \"boolean\",\n        \"num_unique_values\": 1,\n        \"samples\": [\n          false\n        ],\n        \"semantic_type\": \"\",\n        \"description\": \"\"\n      }\n    },\n    {\n      \"column\": \"nama_produk\",\n      \"properties\": {\n        \"dtype\": \"boolean\",\n        \"num_unique_values\": 1,\n        \"samples\": [\n          false\n        ],\n        \"semantic_type\": \"\",\n        \"description\": \"\"\n      }\n    },\n    {\n      \"column\": \"kategori\",\n      \"properties\": {\n        \"dtype\": \"boolean\",\n        \"num_unique_values\": 1,\n        \"samples\": [\n          false\n        ],\n        \"semantic_type\": \"\",\n        \"description\": \"\"\n      }\n    },\n    {\n      \"column\": \"harga\",\n      \"properties\": {\n        \"dtype\": \"boolean\",\n        \"num_unique_values\": 2,\n        \"samples\": [\n          true\n        ],\n        \"semantic_type\": \"\",\n        \"description\": \"\"\n      }\n    },\n    {\n      \"column\": \"rating\",\n      \"properties\": {\n        \"dtype\": \"boolean\",\n        \"num_unique_values\": 2,\n        \"samples\": [\n          true\n        ],\n        \"semantic_type\": \"\",\n        \"description\": \"\"\n      }\n    },\n    {\n      \"column\": \"jumlah_ulasan\",\n      \"properties\": {\n        \"dtype\": \"boolean\",\n        \"num_unique_values\": 2,\n        \"samples\": [\n          true\n        ],\n        \"semantic_type\": \"\",\n        \"description\": \"\"\n      }\n    },\n    {\n      \"column\": \"negara_asal\",\n      \"properties\": {\n        \"dtype\": \"boolean\",\n        \"num_unique_values\": 1,\n        \"samples\": [\n          false\n        ],\n        \"semantic_type\": \"\",\n        \"description\": \"\"\n      }\n    }\n  ]\n}"
            }
          },
          "metadata": {},
          "execution_count": 49
        }
      ]
    },
    {
      "cell_type": "code",
      "source": [
        "np.sum(data.isnull())"
      ],
      "metadata": {
        "colab": {
          "base_uri": "https://localhost:8080/",
          "height": 358
        },
        "id": "geiMZXnEUPVx",
        "outputId": "8caa12bd-c1c8-4873-c873-c9f5f9586529"
      },
      "execution_count": 50,
      "outputs": [
        {
          "output_type": "stream",
          "name": "stderr",
          "text": [
            "/usr/local/lib/python3.11/dist-packages/numpy/core/fromnumeric.py:86: FutureWarning: The behavior of DataFrame.sum with axis=None is deprecated, in a future version this will reduce over both axes and return a scalar. To retain the old behavior, pass axis=0 (or do not pass axis)\n",
            "  return reduction(axis=axis, out=out, **passkwargs)\n"
          ]
        },
        {
          "output_type": "execute_result",
          "data": {
            "text/plain": [
              "produk_id         0\n",
              "nama_produk       0\n",
              "kategori          0\n",
              "harga            30\n",
              "rating           50\n",
              "jumlah_ulasan    20\n",
              "negara_asal       0\n",
              "dtype: int64"
            ],
            "text/html": [
              "<div>\n",
              "<style scoped>\n",
              "    .dataframe tbody tr th:only-of-type {\n",
              "        vertical-align: middle;\n",
              "    }\n",
              "\n",
              "    .dataframe tbody tr th {\n",
              "        vertical-align: top;\n",
              "    }\n",
              "\n",
              "    .dataframe thead th {\n",
              "        text-align: right;\n",
              "    }\n",
              "</style>\n",
              "<table border=\"1\" class=\"dataframe\">\n",
              "  <thead>\n",
              "    <tr style=\"text-align: right;\">\n",
              "      <th></th>\n",
              "      <th>0</th>\n",
              "    </tr>\n",
              "  </thead>\n",
              "  <tbody>\n",
              "    <tr>\n",
              "      <th>produk_id</th>\n",
              "      <td>0</td>\n",
              "    </tr>\n",
              "    <tr>\n",
              "      <th>nama_produk</th>\n",
              "      <td>0</td>\n",
              "    </tr>\n",
              "    <tr>\n",
              "      <th>kategori</th>\n",
              "      <td>0</td>\n",
              "    </tr>\n",
              "    <tr>\n",
              "      <th>harga</th>\n",
              "      <td>30</td>\n",
              "    </tr>\n",
              "    <tr>\n",
              "      <th>rating</th>\n",
              "      <td>50</td>\n",
              "    </tr>\n",
              "    <tr>\n",
              "      <th>jumlah_ulasan</th>\n",
              "      <td>20</td>\n",
              "    </tr>\n",
              "    <tr>\n",
              "      <th>negara_asal</th>\n",
              "      <td>0</td>\n",
              "    </tr>\n",
              "  </tbody>\n",
              "</table>\n",
              "</div><br><label><b>dtype:</b> int64</label>"
            ]
          },
          "metadata": {},
          "execution_count": 50
        }
      ]
    },
    {
      "cell_type": "code",
      "source": [
        "#mengetahui jumlah missing value di seluruh dataset\n",
        "data.isnull().sum().sum()"
      ],
      "metadata": {
        "colab": {
          "base_uri": "https://localhost:8080/"
        },
        "id": "EduWiAMVUTyz",
        "outputId": "76427584-8aeb-4a16-bfcf-54fdb52bc8d5"
      },
      "execution_count": 51,
      "outputs": [
        {
          "output_type": "execute_result",
          "data": {
            "text/plain": [
              "100"
            ]
          },
          "metadata": {},
          "execution_count": 51
        }
      ]
    },
    {
      "cell_type": "markdown",
      "source": [
        "a. Berdasarkan output summarize tersebut, diperoleh bahwa kolom yang mengandung Missing Values (blanks/ N/A (Python : nan atau NaN)) adalah kolom harga, rating dan jumlah_ulasan. Jadi terdapat 3 kolom yang mengandung missing value."
      ],
      "metadata": {
        "id": "p1aNtjfZUcPj"
      }
    },
    {
      "cell_type": "markdown",
      "source": [
        "b. Keberadaan missing values dalam dataset dapat memberikan dampak yang signifikan terhadap analisis data, terutama dalam pengambilan keputusan dan pembuatan model prediksi. Pada kolom harga, missing values dapat menyebabkan hasil analisis statistik seperti rata-rata dan distribusi harga menjadi tidak akurat. Jika harga digunakan dalam model prediksi, data yang hilang dapat menurunkan performa model dan menghasilkan kesalahan prediksi. Selain itu, jika nilai yang hilang tidak tersebar secara acak, misalnya hanya terjadi pada produk murah, maka hasil analisis bisa menjadi bias. Sementara itu, pada kolom rating, yang mencerminkan kualitas produk berdasarkan pengalaman pengguna, missing values dapat menyebabkan peringkat rata-rata suatu produk menjadi tidak akurat. Hal ini berpotensi menimbulkan bias dalam sistem rekomendasi produk serta mempengaruhi analisis kepuasan pelanggan. Jika hanya produk yang memiliki rating yang dihitung, maka produk tanpa rating bisa dianggap memiliki kualitas buruk, padahal belum tentu demikian. Sedangkan pada kolom jumlah ulasan, missing values dapat mengganggu analisis popularitas produk. Jika jumlah ulasan yang hilang cukup banyak, kita bisa salah menilai produk mana yang paling diminati oleh pelanggan. Selain itu, dalam sistem rekomendasi berbasis popularitas, data yang hilang dapat menyebabkan beberapa produk tidak diperhitungkan secara adil."
      ],
      "metadata": {
        "id": "BjdhD_KqUeUU"
      }
    },
    {
      "cell_type": "markdown",
      "source": [
        "c. Dalam menangani missing values pada dataset ini, pemilihan metode disesuaikan dengan karakteristik masing-masing kolom. Untuk kolom harga, metode yang paling sesuai adalah median, karena harga produk cenderung memiliki outlier yang dapat memengaruhi nilai rata-rata jika menggunakan mean. Dengan median, nilai yang hilang dapat diisi dengan angka yang lebih representatif tanpa terpengaruh oleh nilai ekstrem. Pada kolom rating, metode yang digunakan adalah mean, karena rating biasanya memiliki distribusi yang lebih normal dan tidak terlalu terpengaruh oleh outlier, sehingga pengisian dengan nilai rata-rata tetap menghasilkan data yang valid. Sementara itu, untuk kolom jumlah ulasan, metode yang paling tepat adalah median, mengingat jumlah ulasan bisa sangat bervariasi, dengan beberapa produk memiliki ulasan dalam jumlah besar sementara yang lain sangat sedikit. Dengan menggunakan median, kita dapat menghindari distorsi akibat ulasan yang sangat tinggi atau rendah. Dengan metode ini, missing values dapat ditangani secara optimal tanpa mengubah distribusi data secara signifikan."
      ],
      "metadata": {
        "id": "1l7hfsouUkz5"
      }
    },
    {
      "cell_type": "markdown",
      "source": [
        "d. HANDLING MISSING VALUE"
      ],
      "metadata": {
        "id": "Obr4LNC-Uqtm"
      }
    },
    {
      "cell_type": "markdown",
      "source": [
        "HARGA"
      ],
      "metadata": {
        "id": "F-V94q5BUwXY"
      }
    },
    {
      "cell_type": "code",
      "source": [
        "#melihat isi dalam kolom duration\n",
        "data['harga'].unique()"
      ],
      "metadata": {
        "colab": {
          "base_uri": "https://localhost:8080/"
        },
        "id": "rN-rUQVOUo5Z",
        "outputId": "9f8502af-78a2-4646-b7ee-fc0d9849fd2a"
      },
      "execution_count": 52,
      "outputs": [
        {
          "output_type": "execute_result",
          "data": {
            "text/plain": [
              "array([ 7.460e+02,  2.410e+02,  8.100e+02,  3.030e+02,  2.520e+02,\n",
              "        3.350e+02,  8.900e+02,  4.910e+02,  6.050e+02,  4.630e+02,\n",
              "        4.810e+02,  3.980e+02,  5.100e+02,  5.980e+02,  8.350e+02,\n",
              "        1.250e+02,  8.220e+02,  4.260e+02,  3.900e+02,  7.080e+02,\n",
              "        5.450e+02,        nan,  5.720e+02,  7.280e+02,  6.710e+02,\n",
              "        3.740e+02,  2.310e+02,  4.340e+02,  1.150e+03,  3.310e+02,\n",
              "        5.780e+02,  4.750e+02,  4.590e+02,  9.040e+02,  4.970e+02,\n",
              "        5.400e+02,  3.390e+02,  2.110e+02,  8.620e+02,  5.800e+02,\n",
              "        5.180e+02,  5.160e+02,  4.480e+02,  7.360e+02,  2.280e+02,\n",
              "        1.830e+02,  5.150e+02,  7.120e+02,  5.470e+02,  4.360e+02,\n",
              "        5.910e+02,  5.370e+02,  6.650e+02,  7.650e+02,  3.090e+02,\n",
              "        4.290e+02,  2.960e+02,  6.660e+02,  3.550e+02,  1.240e+02,\n",
              "        3.850e+02,  2.010e+02,  8.180e+02,  5.940e+02,  6.290e+02,\n",
              "        6.070e+02,  6.680e+02,  7.260e+02,  3.920e+02,  2.160e+02,\n",
              "        3.300e+02,  4.900e+02, -1.200e+01,  1.200e+02,  6.190e+02,\n",
              "        4.660e+02,  5.570e+02,  4.050e+02,  5.430e+02,  3.880e+02,\n",
              "        3.200e+02,  8.050e+02,  5.730e+02,  5.410e+02,  3.240e+02,\n",
              "        4.530e+02,  3.020e+02,  4.010e+02,  2.580e+02,  8.170e+02,\n",
              "        3.480e+02,  2.340e+02,  3.450e+02,  3.700e+02,  1.790e+02,\n",
              "        1.970e+02,  6.350e+02,  6.560e+02,  5.300e+02,  2.530e+02,\n",
              "        7.790e+02,  4.100e+02,  8.341e+03,  7.740e+02,  3.640e+02,\n",
              "        7.300e+02,  4.240e+02,  3.610e+02,  5.210e+02,  5.680e+02,\n",
              "        8.820e+02,  5.630e+02,  5.380e+02,  8.190e+02,  6.200e+02,\n",
              "        7.710e+02,  3.520e+02,  3.120e+02,  5.660e+02, -1.950e+02,\n",
              "        4.460e+02,  3.960e+02,  6.780e+02,  4.220e+02,  7.290e+02,\n",
              "        5.460e+02,  6.600e+02,  5.480e+02,  6.640e+02,  9.100e+02,\n",
              "        5.500e+02,  4.090e+02,  9.400e+01,  4.470e+02,  6.060e+02,\n",
              "        8.810e+02,  4.610e+02,  7.830e+02,  5.920e+02,  6.170e+02,\n",
              "        1.950e+02,  7.410e+02,  5.750e+02,  2.250e+02,  5.970e+02,\n",
              "        8.700e+01,  9.680e+02,  2.790e+02,  3.370e+02,  6.120e+02,\n",
              "        3.170e+02,  6.990e+02,  4.520e+02,  5.930e+02,  5.030e+02,\n",
              "        2.260e+02,  6.000e+02,  3.990e+02,  7.090e+02,  4.840e+02,\n",
              "        8.360e+02,  9.760e+02,  6.570e+02,  4.420e+02,  4.250e+02,\n",
              "        3.360e+02,  4.450e+02,  8.920e+02,  4.600e+02,  2.540e+02,\n",
              "        5.080e+02,  5.070e+02,  6.590e+02,  5.130e+02,  6.530e+02,\n",
              "        3.430e+02,  8.560e+02,  6.300e+02,  2.660e+02,  1.680e+02,\n",
              "        5.580e+02,  4.020e+02,  5.510e+02,  1.870e+02,  4.300e+02,\n",
              "        7.700e+01,  7.680e+02,  2.380e+02,  3.750e+02,  8.290e+02,\n",
              "        7.950e+02,  8.970e+02,  2.720e+02,  7.123e+03,  1.720e+02,\n",
              "        5.990e+02,  4.580e+02,  4.400e+01,  5.290e+02,  8.590e+02,\n",
              "        4.850e+02,  6.130e+02,  1.500e+02,  1.023e+03,  4.130e+02,\n",
              "        6.280e+02,  8.690e+02,  5.530e+02,  4.570e+02,  5.270e+02,\n",
              "        6.520e+02,  5.020e+02,  6.760e+02,  1.630e+02,  8.990e+02,\n",
              "        8.960e+02,  6.250e+02,  2.970e+02,  9.770e+02,  3.790e+02,\n",
              "        5.900e+02,  6.360e+02,  4.710e+02,  6.330e+02,  4.620e+02,\n",
              "        6.150e+02,  6.270e+02,  4.110e+02,  6.210e+02,  8.410e+02,\n",
              "        8.540e+02,  4.200e+02,  6.610e+02,  8.020e+02,  1.270e+02,\n",
              "        6.370e+02,  3.200e+01,  4.200e+01,  7.860e+02,  7.420e+02,\n",
              "        3.230e+02,  6.020e+02,  5.950e+02,  6.940e+02,  6.440e+02,\n",
              "        4.140e+02,  4.890e+02,  8.680e+02,  4.180e+02,  5.520e+02,\n",
              "        5.100e+01,  9.510e+02,  3.130e+02,  1.134e+03,  5.360e+02,\n",
              "       -1.400e+01,  7.660e+02,  6.430e+02,  8.130e+02,  2.640e+02,\n",
              "        3.630e+02,  1.640e+02,  3.780e+02,  5.420e+02,  6.730e+02,\n",
              "        7.600e+02,  4.000e+02,  5.830e+02,  2.800e+02,  6.230e+02,\n",
              "        3.730e+02,  3.160e+02,  5.490e+02,  7.100e+02,  4.500e+02,\n",
              "        4.860e+02,  4.920e+02,  5.840e+03,  2.610e+02,  5.550e+02,\n",
              "        3.560e+02,  6.810e+02,  3.650e+02,  3.680e+02,  5.890e+02,\n",
              "        9.550e+02,  1.740e+02,  7.250e+02,  3.840e+02,  3.250e+02,\n",
              "        1.770e+02,  7.690e+02,  2.130e+02,  7.930e+02,  5.600e+02,\n",
              "        7.330e+02,  7.070e+02,  2.990e+02,  9.850e+02,  8.890e+02,\n",
              "        3.870e+02, -2.130e+02,  4.280e+02,  3.860e+02,  4.550e+02,\n",
              "        3.340e+02,  6.840e+02,  5.120e+02,  6.900e+02,  7.440e+02,\n",
              "        6.500e+01,  1.014e+03,  6.620e+02,  1.230e+02,  5.280e+02,\n",
              "        6.950e+02,  6.720e+02,  5.598e+03,  1.610e+02,  3.190e+02,\n",
              "        7.730e+02,  6.910e+02,  6.490e+02,  7.010e+02,  4.800e+02,\n",
              "        4.040e+02,  7.030e+02,  7.500e+02,  5.330e+02,  3.040e+02,\n",
              "        4.960e+02,  4.870e+02,  8.400e+02,  5.170e+02,  3.410e+02,\n",
              "        8.240e+02,  2.910e+02,  5.590e+02,  6.240e+02,  5.250e+02,\n",
              "        4.990e+02, -1.500e+01,  5.620e+02,  4.150e+02,  6.420e+02,\n",
              "        2.330e+02,  4.560e+02,  4.350e+02,  4.160e+02,  7.900e+02,\n",
              "        5.740e+02,  4.760e+02,  4.540e+02,  5.860e+02,  6.080e+02,\n",
              "        5.260e+02,  6.030e+02,  5.224e+03,  2.760e+02,  1.560e+02,\n",
              "        5.560e+02,  4.430e+02,  2.900e+02,  7.600e+01,  1.430e+02,\n",
              "        8.200e+02,  3.400e+02,  4.380e+02,  6.320e+02,  7.020e+02,\n",
              "        3.260e+02,  7.560e+02,  6.670e+02,  7.050e+02,  4.230e+02,\n",
              "        5.200e+02,  3.930e+02,  1.090e+02,  4.440e+02,  5.710e+02,\n",
              "        3.820e+02,  4.690e+02, -4.200e+01,  7.590e+02,  6.800e+02,\n",
              "        9.700e+01, -5.000e+00,  7.880e+02,  1.190e+02,  5.350e+02,\n",
              "        7.770e+02, -2.900e+01,  6.450e+02,  4.650e+02,  4.950e+02])"
            ]
          },
          "metadata": {},
          "execution_count": 52
        }
      ]
    },
    {
      "cell_type": "code",
      "source": [
        "#jumlah missing value\n",
        "np.sum(data['harga'].isnull())"
      ],
      "metadata": {
        "colab": {
          "base_uri": "https://localhost:8080/"
        },
        "id": "lkF_rfLCVBLW",
        "outputId": "6f65e94d-f372-4a9e-ea6c-4c992c7f140c"
      },
      "execution_count": 53,
      "outputs": [
        {
          "output_type": "execute_result",
          "data": {
            "text/plain": [
              "30"
            ]
          },
          "metadata": {},
          "execution_count": 53
        }
      ]
    },
    {
      "cell_type": "markdown",
      "source": [
        "Berdasarkan missing value yang didapatkan, terdapat 30 missing value untuk kolom harga."
      ],
      "metadata": {
        "id": "sf28dJmwVF3_"
      }
    },
    {
      "cell_type": "code",
      "source": [
        "#mengisi missing value\n",
        "data['harga']=data['harga'].fillna(data['harga'].median())"
      ],
      "metadata": {
        "id": "2giNfEaOVcJs"
      },
      "execution_count": 54,
      "outputs": []
    },
    {
      "cell_type": "code",
      "source": [
        "#jumlah missing value\n",
        "np.sum(data['harga'].isnull())"
      ],
      "metadata": {
        "colab": {
          "base_uri": "https://localhost:8080/"
        },
        "id": "PFSW_JSjVwqB",
        "outputId": "fcaf3cee-fabb-4d60-a418-d0cd8c5cc342"
      },
      "execution_count": 55,
      "outputs": [
        {
          "output_type": "execute_result",
          "data": {
            "text/plain": [
              "0"
            ]
          },
          "metadata": {},
          "execution_count": 55
        }
      ]
    },
    {
      "cell_type": "markdown",
      "source": [
        "RATING"
      ],
      "metadata": {
        "id": "U0zlcNnvV5ak"
      }
    },
    {
      "cell_type": "code",
      "source": [
        "#melihat isi dalam kolom duration\n",
        "data['rating'].unique()"
      ],
      "metadata": {
        "colab": {
          "base_uri": "https://localhost:8080/"
        },
        "id": "TluShCLOWBbG",
        "outputId": "67648bbf-976c-4513-eb5f-ac8370477e3f"
      },
      "execution_count": 56,
      "outputs": [
        {
          "output_type": "execute_result",
          "data": {
            "text/plain": [
              "array([4.2, 3.5, 3.8, 3.2, 3.7, 4. , 4.5, 3. , 3.9, 3.6, 4.7, 4.4, nan,\n",
              "       3.1, 4.9, 4.6, 5. , 4.8, 4.3, 3.4, 4.1, 3.3])"
            ]
          },
          "metadata": {},
          "execution_count": 56
        }
      ]
    },
    {
      "cell_type": "code",
      "source": [
        "#jumlah missing value\n",
        "np.sum(data['rating'].isnull())"
      ],
      "metadata": {
        "colab": {
          "base_uri": "https://localhost:8080/"
        },
        "id": "ie5zSrwIWF3N",
        "outputId": "84ad4718-f97e-44d7-9be4-769c28b574e0"
      },
      "execution_count": 57,
      "outputs": [
        {
          "output_type": "execute_result",
          "data": {
            "text/plain": [
              "50"
            ]
          },
          "metadata": {},
          "execution_count": 57
        }
      ]
    },
    {
      "cell_type": "markdown",
      "source": [
        "Berdasarkan missing value yang didapatkan, terdapat 50 missing value untuk kolom rating."
      ],
      "metadata": {
        "id": "aHS6tNEZhOYm"
      }
    },
    {
      "cell_type": "code",
      "source": [
        "#mengisi missing value\n",
        "data['rating']=data['rating'].fillna(data['rating'].mean())"
      ],
      "metadata": {
        "id": "QqwYdqFEWQ1d"
      },
      "execution_count": 58,
      "outputs": []
    },
    {
      "cell_type": "code",
      "source": [
        "#jumlah missing value\n",
        "np.sum(data['rating'].isnull())"
      ],
      "metadata": {
        "colab": {
          "base_uri": "https://localhost:8080/"
        },
        "id": "jqYb9hkJWgHd",
        "outputId": "e776660f-a013-4176-b343-9add733b5743"
      },
      "execution_count": 59,
      "outputs": [
        {
          "output_type": "execute_result",
          "data": {
            "text/plain": [
              "0"
            ]
          },
          "metadata": {},
          "execution_count": 59
        }
      ]
    },
    {
      "cell_type": "markdown",
      "source": [
        "JUMLAH_ULASAN"
      ],
      "metadata": {
        "id": "QYiA2sBKV7Lj"
      }
    },
    {
      "cell_type": "code",
      "source": [
        "#melihat isi dalam kolom duration\n",
        "data['jumlah_ulasan'].unique()"
      ],
      "metadata": {
        "colab": {
          "base_uri": "https://localhost:8080/"
        },
        "id": "zuUnbkgRXAqv",
        "outputId": "1d50b7e4-0888-42eb-944e-7cbe75801ded"
      },
      "execution_count": 60,
      "outputs": [
        {
          "output_type": "execute_result",
          "data": {
            "text/plain": [
              "array([273., 239., 209.,  59.,  76., 309., 390.,  67., 268.,  nan, 335.,\n",
              "       139., 224., 181., 267., 111., 218., 300., 363., 480., 295., 125.,\n",
              "       159., 451.,  45., 462., 342., 486., 296., 312., 320., 217., 115.,\n",
              "       455., 167., 130.,  64., 409.,  21., 154., 405., 145., 477.,  12.,\n",
              "       153.,  39., 246., 288., 357., 113., 127.,  14., 257., 373., 330.,\n",
              "       158.,  93., 463., 475., 465., 240., 297., 170., 281., 469.,  47.,\n",
              "       235., 151., 301., 490., 160., 123.,  75., 370., 350., 484., 258.,\n",
              "       466., 458., 340., 332., 189., 199., 416., 163., 205., 271., 428.,\n",
              "       415., 436., 152., 351., 110., 253., 499., 248.,  58.,  51., 175.,\n",
              "        91., 438., 225., 471., 143., 345.,  16., 445.,  23.,  82., 408.,\n",
              "       414., 172., 356., 215., 285., 265., 275.,  34., 459., 290., 262.,\n",
              "       319., 298., 173., 104., 119., 247., 396., 492., 434., 399., 150.,\n",
              "       126., 491., 401., 461.,  88.,  77., 182., 453., 137., 105., 101.,\n",
              "        40., 343.,  29., 155., 325., 456., 169., 358.,  52., 263.,  69.,\n",
              "       476., 427., 354., 391., 276., 187., 424.,  65., 472.,  92., 402.,\n",
              "       108., 338., 165., 380., 272., 261., 106., 269., 112.,  49., 282.,\n",
              "       368., 389., 317., 230., 429., 133., 431.,  72., 494., 200.,  71.,\n",
              "       164., 479., 464., 238.,  95., 142., 192., 395., 228., 255., 147.,\n",
              "       323., 385., 432., 398.,  74.,  22., 222., 483., 190., 347., 474.,\n",
              "       197., 404., 291.,  43.,  61., 121., 241., 236., 242., 422.,  30.,\n",
              "       406., 122., 114., 201.,  26., 129., 138.,  57.,  38.,  19., 286.,\n",
              "       293., 212., 256., 299., 452., 223., 442., 410., 352., 353., 425.,\n",
              "       437.,  96.,  17., 394., 118., 444., 417., 161., 157., 375., 237.,\n",
              "       148., 220., 400.,  37.,  60., 270., 359., 361., 329., 120., 489.,\n",
              "       377., 229., 346., 232., 369., 418., 443., 460.,  87., 178., 226.,\n",
              "       387., 128., 264., 379., 149., 497., 383., 278., 360.,  20., 280.,\n",
              "       433., 411., 162., 324., 482., 287., 423., 183., 131.,  41., 231.,\n",
              "        48., 277., 440.,  27., 135., 311., 144., 245., 233., 244.,  31.,\n",
              "       294., 292.,  97.,  53., 470., 180., 430., 198., 362., 193.,  28.,\n",
              "        32., 304., 117., 376., 371., 195.,  81., 397., 393.])"
            ]
          },
          "metadata": {},
          "execution_count": 60
        }
      ]
    },
    {
      "cell_type": "code",
      "source": [
        "#jumlah missing value\n",
        "np.sum(data['jumlah_ulasan'].isnull())"
      ],
      "metadata": {
        "colab": {
          "base_uri": "https://localhost:8080/"
        },
        "id": "_6sB96WoW5Qz",
        "outputId": "eda19281-b5a0-4fc7-c850-340ccc8a4248"
      },
      "execution_count": 61,
      "outputs": [
        {
          "output_type": "execute_result",
          "data": {
            "text/plain": [
              "20"
            ]
          },
          "metadata": {},
          "execution_count": 61
        }
      ]
    },
    {
      "cell_type": "markdown",
      "source": [
        "Berdasarkan missing value yang didapatkan, terdapat 20 missing value untuk kolom jumlah_ulasan."
      ],
      "metadata": {
        "id": "TH6POpmthUfX"
      }
    },
    {
      "cell_type": "code",
      "source": [
        "#mengisi missing value\n",
        "data['jumlah_ulasan']=data['jumlah_ulasan'].fillna(data['jumlah_ulasan'].median())"
      ],
      "metadata": {
        "id": "gk1w-SxzWnyL"
      },
      "execution_count": 62,
      "outputs": []
    },
    {
      "cell_type": "code",
      "source": [
        "#jumlah missing value\n",
        "np.sum(data['jumlah_ulasan'].isnull())"
      ],
      "metadata": {
        "colab": {
          "base_uri": "https://localhost:8080/"
        },
        "id": "4vfkjW5MWjOn",
        "outputId": "b6ccd484-255e-47ab-8596-8d7bef47050b"
      },
      "execution_count": 63,
      "outputs": [
        {
          "output_type": "execute_result",
          "data": {
            "text/plain": [
              "0"
            ]
          },
          "metadata": {},
          "execution_count": 63
        }
      ]
    },
    {
      "cell_type": "markdown",
      "source": [
        "3. CEK DAN PENANGANAN OUTLIER"
      ],
      "metadata": {
        "id": "tT3a9PtiXjC2"
      }
    },
    {
      "cell_type": "code",
      "source": [
        "import matplotlib.pyplot as plt\n",
        "import seaborn as sns\n",
        "\n",
        "# Kolom numerik yang ingin dicek outliernya\n",
        "num_cols = ['harga', 'rating', 'jumlah_ulasan', ]\n",
        "\n",
        "# Visualisasi Boxplot\n",
        "plt.figure(figsize=(15, 8))\n",
        "for i, col in enumerate(num_cols, 1):\n",
        "    plt.subplot(3, 4, i)\n",
        "    sns.boxplot(y=data[col])\n",
        "    plt.title(col)\n",
        "plt.tight_layout()\n",
        "plt.show()"
      ],
      "metadata": {
        "colab": {
          "base_uri": "https://localhost:8080/",
          "height": 255
        },
        "id": "4SKLsu-dYPlN",
        "outputId": "d241d3a2-5e2c-4a5b-ab91-16132ed82001"
      },
      "execution_count": 64,
      "outputs": [
        {
          "output_type": "display_data",
          "data": {
            "text/plain": [
              "<Figure size 1500x800 with 3 Axes>"
            ],
            "image/png": "[encoded data removed]"
          },
          "metadata": {}
        }
      ]
    },
    {
      "cell_type": "code",
      "source": [
        "def detect_outliers_iqr(data, column):\n",
        "    Q1 = data[column].quantile(0.25)  # Kuartil 1\n",
        "    Q3 = data[column].quantile(0.75)  # Kuartil 3\n",
        "    IQR = Q3 - Q1  # Rentang interkuartil\n",
        "    lower_bound = Q1 - 1.5 * IQR\n",
        "    upper_bound = Q3 + 1.5 * IQR\n",
        "    return data[(data[column] < lower_bound) | (data[column] > upper_bound)]\n",
        "\n",
        "# Cek jumlah outlier untuk setiap kolom numerik\n",
        "for col in num_cols:\n",
        "    outliers = detect_outliers_iqr(data, col)\n",
        "    print(f\"{col}: {len(outliers)} outliers\")"
      ],
      "metadata": {
        "colab": {
          "base_uri": "https://localhost:8080/"
        },
        "id": "CGC3auRjlepp",
        "outputId": "830fb273-507a-4928-f657-001da1cf2871"
      },
      "execution_count": 65,
      "outputs": [
        {
          "output_type": "stream",
          "name": "stdout",
          "text": [
            "harga: 14 outliers\n",
            "rating: 0 outliers\n",
            "jumlah_ulasan: 0 outliers\n"
          ]
        }
      ]
    },
    {
      "cell_type": "markdown",
      "source": [
        "a. Hasil Identifikasi Outlier dalam Dataset"
      ],
      "metadata": {
        "id": "u3CU29bVa7h-"
      }
    },
    {
      "cell_type": "markdown",
      "source": [
        "Berdasarkan hasil identifikasi outlier pada dataset yang, ditemukan bahwa variabel harga memiliki banyak outlier. Hal ini menunjukkan adanya beberapa nilai harga yang jauh lebih tinggi dibandingkan dengan mayoritas data, sehingga distribusi harga tampak tidak merata. Sementara itu, variabel rating tidak menunjukkan adanya outlier yang signifikan, dengan distribusi data yang relatif normal dan whisker yang tidak terlalu panjang. Adapun variabel jumlah_ulasan juga tidak memiliki outlier yang mencolok, dengan data yang tersebar cukup merata dalam rentang yang ditampilkan. Dari hasil analisis ini, dapat disimpulkan bahwa variabel harga memiliki banyak nilai ekstrem yang perlu diperhatikan dalam analisis lebih lanjut, terutama dalam proses pembersihan data atau transformasi agar hasil analisis menjadi lebih akurat."
      ],
      "metadata": {
        "id": "jw8Hc2WuavT1"
      }
    },
    {
      "cell_type": "markdown",
      "source": [
        "b. Keberadaan outlier dalam analisis data dapat menyebabkan distorsi hasil statistik, seperti membuat rata-rata menjadi tidak representatif dan meningkatkan simpangan baku. Dalam model prediktif, outlier dapat memengaruhi akurasi prediksi, terutama dalam regresi linear yang sensitif terhadap nilai ekstrem. Selain itu, outlier dapat menyebabkan kesalahan dalam pengambilan keputusan dan menyulitkan visualisasi data karena skala yang tidak proporsional. Namun, dalam beberapa kasus, outlier bisa memberikan wawasan berharga, seperti mendeteksi anomali atau tren baru. Oleh karena itu, penting untuk mengidentifikasi dan menangani outlier dengan tepat sesuai dengan konteks analisis."
      ],
      "metadata": {
        "id": "3BM1Jrneb8Y3"
      }
    },
    {
      "cell_type": "markdown",
      "source": [
        "c. Dari hasil boxplot, variabel harga memiliki banyak outlier yang signifikan, sehingga metode winsorizing dapat digunakan untuk mengendalikan dampaknya.\n",
        "\n"
      ],
      "metadata": {
        "id": "muzjnoQlcI5h"
      }
    },
    {
      "cell_type": "markdown",
      "source": [
        "d."
      ],
      "metadata": {
        "id": "FqwAZsMalr4c"
      }
    },
    {
      "cell_type": "code",
      "source": [
        "def winsorize_iqr(data, column):\n",
        "    Q1 = data[column].quantile(0.25)\n",
        "    Q3 = data[column].quantile(0.75)\n",
        "    IQR = Q3 - Q1\n",
        "    lower_bound = Q1 - 1.5 * IQR\n",
        "    upper_bound = Q3 + 1.5 * IQR\n",
        "    data[column] = np.where(data[column] < lower_bound, lower_bound, data[column])\n",
        "    data[column] = np.where(data[column] > upper_bound, upper_bound, data[column])\n",
        "\n",
        "# Terapkan Winsorizing\n",
        "for col in num_cols:\n",
        "    winsorize_iqr(data, col)"
      ],
      "metadata": {
        "id": "ZOzWCwtGkB-g"
      },
      "execution_count": 66,
      "outputs": []
    },
    {
      "cell_type": "code",
      "source": [
        "for col in num_cols:\n",
        "    outliers = detect_outliers_iqr(data, col)\n",
        "    print(f\"{col}: {len(outliers)} outlier\")"
      ],
      "metadata": {
        "colab": {
          "base_uri": "https://localhost:8080/"
        },
        "id": "HK_JRPtVkXNL",
        "outputId": "a4d9808d-a64e-48d7-db58-688348242326"
      },
      "execution_count": 67,
      "outputs": [
        {
          "output_type": "stream",
          "name": "stdout",
          "text": [
            "harga: 0 outlier\n",
            "rating: 0 outlier\n",
            "jumlah_ulasan: 0 outlier\n"
          ]
        }
      ]
    },
    {
      "cell_type": "code",
      "source": [
        "import matplotlib.pyplot as plt\n",
        "import seaborn as sns\n",
        "\n",
        "# Kolom numerik yang ingin dicek outliernya\n",
        "num_cols = ['harga','rating','jumlah_ulasan']\n",
        "\n",
        "# Visualisasi Boxplot\n",
        "plt.figure(figsize=(15, 8))\n",
        "for i, col in enumerate(num_cols, 1):\n",
        "    plt.subplot(3, 4, i)\n",
        "    sns.boxplot(y=data[col])\n",
        "    plt.title(col)\n",
        "plt.tight_layout()\n",
        "plt.show()\n"
      ],
      "metadata": {
        "colab": {
          "base_uri": "https://localhost:8080/",
          "height": 255
        },
        "id": "C89NbaD-loFF",
        "outputId": "cf3e0cc6-a621-4c8c-beaf-bf3597078152"
      },
      "execution_count": 68,
      "outputs": [
        {
          "output_type": "display_data",
          "data": {
            "text/plain": [
              "<Figure size 1500x800 with 3 Axes>"
            ],
            "image/png": "[encoded data removed]"
          },
          "metadata": {}
        }
      ]
    },
    {
      "cell_type": "markdown",
      "source": [
        "4. ENCODING DATA"
      ],
      "metadata": {
        "id": "G7AXlhQucmZa"
      }
    },
    {
      "cell_type": "markdown",
      "source": [
        "a. Dalam dataset ini, terdapat tiga kolom kategorikal yang memerlukan encoding, yaitu:\n",
        "\n",
        "kategori → Kategori produk, misalnya \"elektronik\", \"gadget\", dll.\n",
        "\n",
        "negara_asal → Negara asal produk, misalnya \"China\", \"USA\", dll."
      ],
      "metadata": {
        "id": "5V1mSRS_dyxo"
      }
    },
    {
      "cell_type": "markdown",
      "source": [
        "b. Terdapat beberapa metode encoding yang dapat digunakan untuk mengubah data kategorikal menjadi numerik, masing-masing dengan kelebihan dan kekurangannya. Label Encoding mengubah kategori menjadi angka, seperti \"China\" menjadi 0 dan \"USA\" menjadi 1. Metode ini cocok untuk data yang memiliki urutan atau jumlah kategori yang sedikit, tetapi dapat menyebabkan model menganggap ada hubungan hierarkis antara kategori yang sebenarnya bersifat nominal. One-Hot Encoding mengubah kategori menjadi beberapa kolom biner, misalnya \"China\" menjadi [1,0] dan \"USA\" menjadi [0,1]. Metode ini cocok untuk data kategorikal tanpa urutan, tetapi jika jumlah kategori terlalu banyak, jumlah kolom bisa bertambah drastis sehingga meningkatkan kompleksitas model. Target Encoding menggantikan kategori dengan rata-rata target dari masing-masing kategori, yang bermanfaat dalam model prediksi, tetapi dapat menyebabkan data leakage jika tidak diterapkan dengan benar.\n",
        "\n",
        "Dalam dataset ini, metode encoding dipilih berdasarkan karakteristik masing-masing kolom. Kolom kategori diencoding menggunakan One-Hot Encoding, karena kategori produk bersifat nominal tanpa hubungan hierarkis, sehingga representasi biner lebih sesuai. Kolom negara_asal menggunakan Label Encoding, karena jumlah negara biasanya tidak terlalu banyak dan dapat diurutkan jika diperlukan dalam analisis tertentu."
      ],
      "metadata": {
        "id": "VZPs1DokeLtH"
      }
    },
    {
      "cell_type": "code",
      "source": [
        "#melihat isi dalam kolom\n",
        "data['kategori'].unique()"
      ],
      "metadata": {
        "id": "Rdxc7tlEg5_M",
        "colab": {
          "base_uri": "https://localhost:8080/"
        },
        "outputId": "cae6dd8d-5112-4fad-8a66-c04af2650245"
      },
      "execution_count": 69,
      "outputs": [
        {
          "output_type": "execute_result",
          "data": {
            "text/plain": [
              "array(['Smartwatch', 'Headphone', 'Tablet', 'Laptop', 'Camera',\n",
              "       'Smartphone'], dtype=object)"
            ]
          },
          "metadata": {},
          "execution_count": 69
        }
      ]
    },
    {
      "cell_type": "code",
      "source": [
        "data['negara_asal'].unique()"
      ],
      "metadata": {
        "colab": {
          "base_uri": "https://localhost:8080/"
        },
        "id": "8H3W57tFmWN0",
        "outputId": "565db6b1-efe1-4d4f-c2d5-5b38745a7cb8"
      },
      "execution_count": 70,
      "outputs": [
        {
          "output_type": "execute_result",
          "data": {
            "text/plain": [
              "array(['Japan', 'Canada', 'South Korea', 'France', 'USA', 'Germany',\n",
              "       'China', 'India', 'UK'], dtype=object)"
            ]
          },
          "metadata": {},
          "execution_count": 70
        }
      ]
    },
    {
      "cell_type": "markdown",
      "source": [
        "KATEGORI"
      ],
      "metadata": {
        "id": "MKZc64L8mdqF"
      }
    },
    {
      "cell_type": "code",
      "source": [
        "data['jenis'] = data ['kategori']\n",
        "data = pd.get_dummies(data, columns=['jenis'], prefix='kategori')"
      ],
      "metadata": {
        "id": "RaXXzkVvmfse"
      },
      "execution_count": 71,
      "outputs": []
    },
    {
      "cell_type": "code",
      "source": [
        "data.info()"
      ],
      "metadata": {
        "colab": {
          "base_uri": "https://localhost:8080/"
        },
        "id": "UT3hBGd2mjBv",
        "outputId": "a1dc400f-2651-42ea-b0c1-75418fc10321"
      },
      "execution_count": 72,
      "outputs": [
        {
          "output_type": "stream",
          "name": "stdout",
          "text": [
            "<class 'pandas.core.frame.DataFrame'>\n",
            "RangeIndex: 550 entries, 0 to 549\n",
            "Data columns (total 13 columns):\n",
            " #   Column               Non-Null Count  Dtype  \n",
            "---  ------               --------------  -----  \n",
            " 0   produk_id            550 non-null    int64  \n",
            " 1   nama_produk          550 non-null    object \n",
            " 2   kategori             550 non-null    object \n",
            " 3   harga                550 non-null    float64\n",
            " 4   rating               550 non-null    float64\n",
            " 5   jumlah_ulasan        550 non-null    float64\n",
            " 6   negara_asal          550 non-null    object \n",
            " 7   kategori_Camera      550 non-null    bool   \n",
            " 8   kategori_Headphone   550 non-null    bool   \n",
            " 9   kategori_Laptop      550 non-null    bool   \n",
            " 10  kategori_Smartphone  550 non-null    bool   \n",
            " 11  kategori_Smartwatch  550 non-null    bool   \n",
            " 12  kategori_Tablet      550 non-null    bool   \n",
            "dtypes: bool(6), float64(3), int64(1), object(3)\n",
            "memory usage: 33.4+ KB\n"
          ]
        }
      ]
    },
    {
      "cell_type": "markdown",
      "source": [
        "NEGARA_ASAL"
      ],
      "metadata": {
        "id": "Oi8-lS63mpAd"
      }
    },
    {
      "cell_type": "code",
      "source": [
        "# Buat dictionary untuk mapping negara ke region\n",
        "negara_asal_to_benua = {\n",
        "    'USA': 'America', 'Canada': 'America', 'UK': 'Europe', 'France': 'Europe', 'Germany': 'Europe',\n",
        "    'China' : 'Asia', 'Japan': 'Asia', 'India': 'Asia', 'South Korea': 'Asia',\n",
        "}\n",
        "\n",
        "# Ubah negara menjadi region\n",
        "data['benua'] = data['negara_asal'].map(negara_asal_to_benua).fillna('Others')\n",
        "\n",
        "# One-Hot Encoding pada region\n",
        "data = pd.get_dummies(data, columns=['benua'], prefix='benua')"
      ],
      "metadata": {
        "id": "YzOdQqtPmrbA"
      },
      "execution_count": 73,
      "outputs": []
    },
    {
      "cell_type": "code",
      "source": [
        "data.info()"
      ],
      "metadata": {
        "colab": {
          "base_uri": "https://localhost:8080/"
        },
        "id": "Mt-S3eZZmwvP",
        "outputId": "ff156245-112a-4bb8-b73e-4239024bea91"
      },
      "execution_count": 74,
      "outputs": [
        {
          "output_type": "stream",
          "name": "stdout",
          "text": [
            "<class 'pandas.core.frame.DataFrame'>\n",
            "RangeIndex: 550 entries, 0 to 549\n",
            "Data columns (total 16 columns):\n",
            " #   Column               Non-Null Count  Dtype  \n",
            "---  ------               --------------  -----  \n",
            " 0   produk_id            550 non-null    int64  \n",
            " 1   nama_produk          550 non-null    object \n",
            " 2   kategori             550 non-null    object \n",
            " 3   harga                550 non-null    float64\n",
            " 4   rating               550 non-null    float64\n",
            " 5   jumlah_ulasan        550 non-null    float64\n",
            " 6   negara_asal          550 non-null    object \n",
            " 7   kategori_Camera      550 non-null    bool   \n",
            " 8   kategori_Headphone   550 non-null    bool   \n",
            " 9   kategori_Laptop      550 non-null    bool   \n",
            " 10  kategori_Smartphone  550 non-null    bool   \n",
            " 11  kategori_Smartwatch  550 non-null    bool   \n",
            " 12  kategori_Tablet      550 non-null    bool   \n",
            " 13  benua_America        550 non-null    bool   \n",
            " 14  benua_Asia           550 non-null    bool   \n",
            " 15  benua_Europe         550 non-null    bool   \n",
            "dtypes: bool(9), float64(3), int64(1), object(3)\n",
            "memory usage: 35.0+ KB\n"
          ]
        }
      ]
    }
  ]
}